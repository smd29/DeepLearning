{
 "cells": [
  {
   "cell_type": "code",
   "execution_count": 14,
   "id": "df8b104a",
   "metadata": {},
   "outputs": [],
   "source": [
    "import pandas as pd"
   ]
  },
  {
   "cell_type": "code",
   "execution_count": 15,
   "id": "97cd00b1",
   "metadata": {},
   "outputs": [],
   "source": [
    "df = pd.read_csv('AAPL.csv')"
   ]
  },
  {
   "cell_type": "code",
   "execution_count": 16,
   "id": "b421423d",
   "metadata": {},
   "outputs": [
    {
     "data": {
      "text/html": [
       "<div>\n",
       "<style scoped>\n",
       "    .dataframe tbody tr th:only-of-type {\n",
       "        vertical-align: middle;\n",
       "    }\n",
       "\n",
       "    .dataframe tbody tr th {\n",
       "        vertical-align: top;\n",
       "    }\n",
       "\n",
       "    .dataframe thead th {\n",
       "        text-align: right;\n",
       "    }\n",
       "</style>\n",
       "<table border=\"1\" class=\"dataframe\">\n",
       "  <thead>\n",
       "    <tr style=\"text-align: right;\">\n",
       "      <th></th>\n",
       "      <th>symbol</th>\n",
       "      <th>date</th>\n",
       "      <th>close</th>\n",
       "      <th>high</th>\n",
       "      <th>low</th>\n",
       "      <th>open</th>\n",
       "      <th>volume</th>\n",
       "      <th>adjClose</th>\n",
       "      <th>adjHigh</th>\n",
       "      <th>adjLow</th>\n",
       "      <th>adjOpen</th>\n",
       "      <th>adjVolume</th>\n",
       "      <th>divCash</th>\n",
       "      <th>splitFactor</th>\n",
       "    </tr>\n",
       "  </thead>\n",
       "  <tbody>\n",
       "    <tr>\n",
       "      <th>0</th>\n",
       "      <td>AAPL</td>\n",
       "      <td>2019-02-19 00:00:00+00:00</td>\n",
       "      <td>170.93</td>\n",
       "      <td>171.44</td>\n",
       "      <td>169.49</td>\n",
       "      <td>169.71</td>\n",
       "      <td>18972826</td>\n",
       "      <td>41.137246</td>\n",
       "      <td>41.259986</td>\n",
       "      <td>40.790685</td>\n",
       "      <td>40.843632</td>\n",
       "      <td>75891304</td>\n",
       "      <td>0.0</td>\n",
       "      <td>1.0</td>\n",
       "    </tr>\n",
       "    <tr>\n",
       "      <th>1</th>\n",
       "      <td>AAPL</td>\n",
       "      <td>2019-02-20 00:00:00+00:00</td>\n",
       "      <td>172.03</td>\n",
       "      <td>173.32</td>\n",
       "      <td>170.99</td>\n",
       "      <td>171.19</td>\n",
       "      <td>26114362</td>\n",
       "      <td>41.401980</td>\n",
       "      <td>41.712440</td>\n",
       "      <td>41.151686</td>\n",
       "      <td>41.199819</td>\n",
       "      <td>104457448</td>\n",
       "      <td>0.0</td>\n",
       "      <td>1.0</td>\n",
       "    </tr>\n",
       "    <tr>\n",
       "      <th>2</th>\n",
       "      <td>AAPL</td>\n",
       "      <td>2019-02-21 00:00:00+00:00</td>\n",
       "      <td>171.06</td>\n",
       "      <td>172.37</td>\n",
       "      <td>170.30</td>\n",
       "      <td>171.80</td>\n",
       "      <td>17249670</td>\n",
       "      <td>41.168532</td>\n",
       "      <td>41.483806</td>\n",
       "      <td>40.985625</td>\n",
       "      <td>41.346626</td>\n",
       "      <td>68998680</td>\n",
       "      <td>0.0</td>\n",
       "      <td>1.0</td>\n",
       "    </tr>\n",
       "    <tr>\n",
       "      <th>3</th>\n",
       "      <td>AAPL</td>\n",
       "      <td>2019-02-22 00:00:00+00:00</td>\n",
       "      <td>172.97</td>\n",
       "      <td>173.00</td>\n",
       "      <td>171.38</td>\n",
       "      <td>171.58</td>\n",
       "      <td>18913154</td>\n",
       "      <td>41.628207</td>\n",
       "      <td>41.635427</td>\n",
       "      <td>41.245546</td>\n",
       "      <td>41.293679</td>\n",
       "      <td>75652616</td>\n",
       "      <td>0.0</td>\n",
       "      <td>1.0</td>\n",
       "    </tr>\n",
       "    <tr>\n",
       "      <th>4</th>\n",
       "      <td>AAPL</td>\n",
       "      <td>2019-02-25 00:00:00+00:00</td>\n",
       "      <td>174.23</td>\n",
       "      <td>175.87</td>\n",
       "      <td>173.95</td>\n",
       "      <td>174.16</td>\n",
       "      <td>21873358</td>\n",
       "      <td>41.931447</td>\n",
       "      <td>42.326142</td>\n",
       "      <td>41.864061</td>\n",
       "      <td>41.914601</td>\n",
       "      <td>87493432</td>\n",
       "      <td>0.0</td>\n",
       "      <td>1.0</td>\n",
       "    </tr>\n",
       "  </tbody>\n",
       "</table>\n",
       "</div>"
      ],
      "text/plain": [
       "  symbol                       date   close    high     low    open    volume  \\\n",
       "0   AAPL  2019-02-19 00:00:00+00:00  170.93  171.44  169.49  169.71  18972826   \n",
       "1   AAPL  2019-02-20 00:00:00+00:00  172.03  173.32  170.99  171.19  26114362   \n",
       "2   AAPL  2019-02-21 00:00:00+00:00  171.06  172.37  170.30  171.80  17249670   \n",
       "3   AAPL  2019-02-22 00:00:00+00:00  172.97  173.00  171.38  171.58  18913154   \n",
       "4   AAPL  2019-02-25 00:00:00+00:00  174.23  175.87  173.95  174.16  21873358   \n",
       "\n",
       "    adjClose    adjHigh     adjLow    adjOpen  adjVolume  divCash  splitFactor  \n",
       "0  41.137246  41.259986  40.790685  40.843632   75891304      0.0          1.0  \n",
       "1  41.401980  41.712440  41.151686  41.199819  104457448      0.0          1.0  \n",
       "2  41.168532  41.483806  40.985625  41.346626   68998680      0.0          1.0  \n",
       "3  41.628207  41.635427  41.245546  41.293679   75652616      0.0          1.0  \n",
       "4  41.931447  42.326142  41.864061  41.914601   87493432      0.0          1.0  "
      ]
     },
     "execution_count": 16,
     "metadata": {},
     "output_type": "execute_result"
    }
   ],
   "source": [
    "df.head()"
   ]
  },
  {
   "cell_type": "code",
   "execution_count": 31,
   "id": "d633d49d",
   "metadata": {},
   "outputs": [],
   "source": [
    "# will be doing stock prediction based on open. however we can do this based on other params as well\n",
    "df1 = df.reset_index()['open']"
   ]
  },
  {
   "cell_type": "code",
   "execution_count": 32,
   "id": "eeb9db4e",
   "metadata": {},
   "outputs": [
    {
     "data": {
      "text/plain": [
       "0       169.710\n",
       "1       171.190\n",
       "2       171.800\n",
       "3       171.580\n",
       "4       174.160\n",
       "         ...   \n",
       "1254    188.415\n",
       "1255    185.770\n",
       "1256    185.320\n",
       "1257    183.550\n",
       "1258    183.420\n",
       "Name: open, Length: 1259, dtype: float64"
      ]
     },
     "execution_count": 32,
     "metadata": {},
     "output_type": "execute_result"
    }
   ],
   "source": [
    "df1"
   ]
  },
  {
   "cell_type": "code",
   "execution_count": 33,
   "id": "09fb2655",
   "metadata": {},
   "outputs": [
    {
     "data": {
      "text/plain": [
       "[<matplotlib.lines.Line2D at 0x7f904bc1f340>]"
      ]
     },
     "execution_count": 33,
     "metadata": {},
     "output_type": "execute_result"
    },
    {
     "data": {
      "image/png": "[encoded data removed]",
      "text/plain": [
       "<Figure size 640x480 with 1 Axes>"
      ]
     },
     "metadata": {},
     "output_type": "display_data"
    }
   ],
   "source": [
    "import matplotlib.pyplot as plt\n",
    "plt.plot(df1)"
   ]
  },
  {
   "cell_type": "code",
   "execution_count": 34,
   "id": "2277b8c1",
   "metadata": {},
   "outputs": [],
   "source": [
    "### LSTM are sensitive to the scale of the data. so we apply MinMax scaler "
   ]
  },
  {
   "cell_type": "code",
   "execution_count": 35,
   "id": "0cd40817",
   "metadata": {},
   "outputs": [],
   "source": [
    "import numpy as np"
   ]
  },
  {
   "cell_type": "code",
   "execution_count": 27,
   "id": "9b32f366",
   "metadata": {},
   "outputs": [
    {
     "name": "stdout",
     "output_type": "stream",
     "text": [
      "Requirement already satisfied: scikit-learn in /Users/shreyas/anaconda3/lib/python3.10/site-packages (1.2.1)\n",
      "Requirement already satisfied: joblib>=1.1.1 in /Users/shreyas/anaconda3/lib/python3.10/site-packages (from scikit-learn) (1.1.1)\n",
      "Requirement already satisfied: numpy>=1.17.3 in /Users/shreyas/anaconda3/lib/python3.10/site-packages (from scikit-learn) (1.23.5)\n",
      "Requirement already satisfied: threadpoolctl>=2.0.0 in /Users/shreyas/anaconda3/lib/python3.10/site-packages (from scikit-learn) (2.2.0)\n",
      "Requirement already satisfied: scipy>=1.3.2 in /Users/shreyas/anaconda3/lib/python3.10/site-packages (from scikit-learn) (1.10.0)\n"
     ]
    }
   ],
   "source": [
    "!pip install scikit-learn"
   ]
  },
  {
   "cell_type": "code",
   "execution_count": 36,
   "id": "d832062a",
   "metadata": {},
   "outputs": [],
   "source": [
    "from sklearn.preprocessing import MinMaxScaler\n",
    "scaler = MinMaxScaler(feature_range=(0,1))\n",
    "df1 = scaler.fit_transform(np.array(df1).reshape(-1,1))"
   ]
  },
  {
   "cell_type": "code",
   "execution_count": 37,
   "id": "8419ccfe",
   "metadata": {},
   "outputs": [
    {
     "data": {
      "text/plain": [
       "array([[0.15885436],\n",
       "       [0.16246191],\n",
       "       [0.16394881],\n",
       "       ...,\n",
       "       [0.19690433],\n",
       "       [0.19258988],\n",
       "       [0.192273  ]])"
      ]
     },
     "execution_count": 37,
     "metadata": {},
     "output_type": "execute_result"
    }
   ],
   "source": [
    "df1"
   ]
  },
  {
   "cell_type": "markdown",
   "id": "77b94860",
   "metadata": {},
   "source": [
    "# Data Preprocessing"
   ]
  },
  {
   "cell_type": "code",
   "execution_count": 38,
   "id": "b1f3733f",
   "metadata": {},
   "outputs": [
    {
     "data": {
      "text/plain": [
       "\"in case of time series data, there is something called timesteps. if my data is 120,123,132,111 and timesteps\\nis 2,\\nwe will have two features(f1,f2) and output will be dependent of these features\\n\\nf1  f2     op\\n120 123 -> 132\\n123 132 -> 111\\n\\nin case of time series data, we can't use cross validation or random seed\\n\""
      ]
     },
     "execution_count": 38,
     "metadata": {},
     "output_type": "execute_result"
    }
   ],
   "source": [
    "'''in case of time series data, there is something called timesteps. if my data is 120,123,132,111 and timesteps\n",
    "is 2,\n",
    "we will have two features(f1,f2) and output will be dependent of these features\n",
    "\n",
    "f1  f2     op\n",
    "120 123 -> 132\n",
    "123 132 -> 111\n",
    "\n",
    "in case of time series data, we can't use cross validation or random seed\n",
    "'''"
   ]
  },
  {
   "cell_type": "code",
   "execution_count": 39,
   "id": "2e47a732",
   "metadata": {},
   "outputs": [],
   "source": [
    "##splitting dataset into train and test split\n",
    "training_size = int(len(df1)*0.7)\n",
    "test_size = len(df1) - training_size\n",
    "train_data, test_data = df1[0:training_size,:], df1[training_size:len(df1),:1]"
   ]
  },
  {
   "cell_type": "code",
   "execution_count": 41,
   "id": "12a7e3cf",
   "metadata": {},
   "outputs": [],
   "source": [
    "import numpy\n",
    "# convert an array of values into a dataset matrix\n",
    "def create_dataset(dataset, time_step):\n",
    "\tdataX, dataY = [], []\n",
    "\tfor i in range(len(dataset)-time_step-1):\n",
    "\t\ta = dataset[i:(i+time_step), 0]   ###i=0, 0,1,2,3-----99   100 \n",
    "\t\tdataX.append(a)\n",
    "\t\tdataY.append(dataset[i + time_step, 0])\n",
    "\treturn numpy.array(dataX), numpy.array(dataY)"
   ]
  },
  {
   "cell_type": "code",
   "execution_count": 42,
   "id": "5b7cc97f",
   "metadata": {},
   "outputs": [],
   "source": [
    "# reshape into X=t,t+1,t+2,t+3 and Y=t+4\n",
    "time_step = 100\n",
    "X_train, y_train = create_dataset(train_data, time_step)\n",
    "X_test, ytest = create_dataset(test_data, time_step)"
   ]
  },
  {
   "cell_type": "code",
   "execution_count": 43,
   "id": "08eb841f",
   "metadata": {},
   "outputs": [],
   "source": [
    "# reshape input to be [samples, time steps, features] which is required for LSTM\n",
    "X_train =X_train.reshape(X_train.shape[0],X_train.shape[1] , 1)\n",
    "X_test = X_test.reshape(X_test.shape[0],X_test.shape[1] , 1)"
   ]
  },
  {
   "cell_type": "markdown",
   "id": "67f47afd",
   "metadata": {},
   "source": [
    "# Create LSTM Model"
   ]
  },
  {
   "cell_type": "code",
   "execution_count": 44,
   "id": "98b541d9",
   "metadata": {},
   "outputs": [
    {
     "name": "stderr",
     "output_type": "stream",
     "text": [
      "2024-02-18 19:10:16.813773: I tensorflow/core/platform/cpu_feature_guard.cc:182] This TensorFlow binary is optimized to use available CPU instructions in performance-critical operations.\n",
      "To enable the following instructions: AVX2 FMA, in other operations, rebuild TensorFlow with the appropriate compiler flags.\n"
     ]
    }
   ],
   "source": [
    "from tensorflow.keras.models import Sequential\n",
    "from tensorflow.keras.layers import Dense\n",
    "from tensorflow.keras.layers import LSTM"
   ]
  },
  {
   "cell_type": "code",
   "execution_count": 46,
   "id": "502229ea",
   "metadata": {},
   "outputs": [
    {
     "name": "stderr",
     "output_type": "stream",
     "text": [
      "2024-02-18 19:10:27.076778: I tensorflow/core/common_runtime/executor.cc:1197] [/device:CPU:0] (DEBUG INFO) Executor start aborting (this does not indicate an error and you can ignore this message): INVALID_ARGUMENT: You must feed a value for placeholder tensor 'gradients/split_2_grad/concat/split_2/split_dim' with dtype int32\n",
      "\t [[{{node gradients/split_2_grad/concat/split_2/split_dim}}]]\n",
      "2024-02-18 19:10:27.077745: I tensorflow/core/common_runtime/executor.cc:1197] [/device:CPU:0] (DEBUG INFO) Executor start aborting (this does not indicate an error and you can ignore this message): INVALID_ARGUMENT: You must feed a value for placeholder tensor 'gradients/split_grad/concat/split/split_dim' with dtype int32\n",
      "\t [[{{node gradients/split_grad/concat/split/split_dim}}]]\n",
      "2024-02-18 19:10:27.078878: I tensorflow/core/common_runtime/executor.cc:1197] [/device:CPU:0] (DEBUG INFO) Executor start aborting (this does not indicate an error and you can ignore this message): INVALID_ARGUMENT: You must feed a value for placeholder tensor 'gradients/split_1_grad/concat/split_1/split_dim' with dtype int32\n",
      "\t [[{{node gradients/split_1_grad/concat/split_1/split_dim}}]]\n",
      "2024-02-18 19:10:27.253615: I tensorflow/core/common_runtime/executor.cc:1197] [/device:CPU:0] (DEBUG INFO) Executor start aborting (this does not indicate an error and you can ignore this message): INVALID_ARGUMENT: You must feed a value for placeholder tensor 'gradients/split_2_grad/concat/split_2/split_dim' with dtype int32\n",
      "\t [[{{node gradients/split_2_grad/concat/split_2/split_dim}}]]\n",
      "2024-02-18 19:10:27.254843: I tensorflow/core/common_runtime/executor.cc:1197] [/device:CPU:0] (DEBUG INFO) Executor start aborting (this does not indicate an error and you can ignore this message): INVALID_ARGUMENT: You must feed a value for placeholder tensor 'gradients/split_grad/concat/split/split_dim' with dtype int32\n",
      "\t [[{{node gradients/split_grad/concat/split/split_dim}}]]\n",
      "2024-02-18 19:10:27.256429: I tensorflow/core/common_runtime/executor.cc:1197] [/device:CPU:0] (DEBUG INFO) Executor start aborting (this does not indicate an error and you can ignore this message): INVALID_ARGUMENT: You must feed a value for placeholder tensor 'gradients/split_1_grad/concat/split_1/split_dim' with dtype int32\n",
      "\t [[{{node gradients/split_1_grad/concat/split_1/split_dim}}]]\n"
     ]
    },
    {
     "name": "stdout",
     "output_type": "stream",
     "text": [
      "Model: \"sequential_1\"\n",
      "_________________________________________________________________\n",
      " Layer (type)                Output Shape              Param #   \n",
      "=================================================================\n",
      " lstm_3 (LSTM)               (None, 100, 50)           10400     \n",
      "                                                                 \n",
      " lstm_4 (LSTM)               (None, 100, 50)           20200     \n",
      "                                                                 \n",
      " lstm_5 (LSTM)               (None, 50)                20200     \n",
      "                                                                 \n",
      " dense_1 (Dense)             (None, 1)                 51        \n",
      "                                                                 \n",
      "=================================================================\n",
      "Total params: 50,851\n",
      "Trainable params: 50,851\n",
      "Non-trainable params: 0\n",
      "_________________________________________________________________\n"
     ]
    },
    {
     "name": "stderr",
     "output_type": "stream",
     "text": [
      "2024-02-18 19:10:27.567563: I tensorflow/core/common_runtime/executor.cc:1197] [/device:CPU:0] (DEBUG INFO) Executor start aborting (this does not indicate an error and you can ignore this message): INVALID_ARGUMENT: You must feed a value for placeholder tensor 'gradients/split_2_grad/concat/split_2/split_dim' with dtype int32\n",
      "\t [[{{node gradients/split_2_grad/concat/split_2/split_dim}}]]\n",
      "2024-02-18 19:10:27.568921: I tensorflow/core/common_runtime/executor.cc:1197] [/device:CPU:0] (DEBUG INFO) Executor start aborting (this does not indicate an error and you can ignore this message): INVALID_ARGUMENT: You must feed a value for placeholder tensor 'gradients/split_grad/concat/split/split_dim' with dtype int32\n",
      "\t [[{{node gradients/split_grad/concat/split/split_dim}}]]\n",
      "2024-02-18 19:10:27.570314: I tensorflow/core/common_runtime/executor.cc:1197] [/device:CPU:0] (DEBUG INFO) Executor start aborting (this does not indicate an error and you can ignore this message): INVALID_ARGUMENT: You must feed a value for placeholder tensor 'gradients/split_1_grad/concat/split_1/split_dim' with dtype int32\n",
      "\t [[{{node gradients/split_1_grad/concat/split_1/split_dim}}]]\n"
     ]
    }
   ],
   "source": [
    "model=Sequential()\n",
    "model.add(LSTM(50,return_sequences=True,input_shape=(100,1)))\n",
    "model.add(LSTM(50,return_sequences=True))\n",
    "model.add(LSTM(50))\n",
    "model.add(Dense(1))\n",
    "model.compile(loss='mean_squared_error',optimizer='adam')\n",
    "model.summary()"
   ]
  },
  {
   "cell_type": "code",
   "execution_count": 47,
   "id": "86961b08",
   "metadata": {},
   "outputs": [
    {
     "name": "stdout",
     "output_type": "stream",
     "text": [
      "Epoch 1/100\n"
     ]
    },
    {
     "name": "stderr",
     "output_type": "stream",
     "text": [
      "2024-02-18 19:10:46.786604: I tensorflow/core/common_runtime/executor.cc:1197] [/device:CPU:0] (DEBUG INFO) Executor start aborting (this does not indicate an error and you can ignore this message): INVALID_ARGUMENT: You must feed a value for placeholder tensor 'gradients/split_2_grad/concat/split_2/split_dim' with dtype int32\n",
      "\t [[{{node gradients/split_2_grad/concat/split_2/split_dim}}]]\n",
      "2024-02-18 19:10:46.787714: I tensorflow/core/common_runtime/executor.cc:1197] [/device:CPU:0] (DEBUG INFO) Executor start aborting (this does not indicate an error and you can ignore this message): INVALID_ARGUMENT: You must feed a value for placeholder tensor 'gradients/split_grad/concat/split/split_dim' with dtype int32\n",
      "\t [[{{node gradients/split_grad/concat/split/split_dim}}]]\n",
      "2024-02-18 19:10:46.788859: I tensorflow/core/common_runtime/executor.cc:1197] [/device:CPU:0] (DEBUG INFO) Executor start aborting (this does not indicate an error and you can ignore this message): INVALID_ARGUMENT: You must feed a value for placeholder tensor 'gradients/split_1_grad/concat/split_1/split_dim' with dtype int32\n",
      "\t [[{{node gradients/split_1_grad/concat/split_1/split_dim}}]]\n",
      "2024-02-18 19:10:46.946526: I tensorflow/core/common_runtime/executor.cc:1197] [/device:CPU:0] (DEBUG INFO) Executor start aborting (this does not indicate an error and you can ignore this message): INVALID_ARGUMENT: You must feed a value for placeholder tensor 'gradients/split_2_grad/concat/split_2/split_dim' with dtype int32\n",
      "\t [[{{node gradients/split_2_grad/concat/split_2/split_dim}}]]\n",
      "2024-02-18 19:10:46.947720: I tensorflow/core/common_runtime/executor.cc:1197] [/device:CPU:0] (DEBUG INFO) Executor start aborting (this does not indicate an error and you can ignore this message): INVALID_ARGUMENT: You must feed a value for placeholder tensor 'gradients/split_grad/concat/split/split_dim' with dtype int32\n",
      "\t [[{{node gradients/split_grad/concat/split/split_dim}}]]\n",
      "2024-02-18 19:10:46.948678: I tensorflow/core/common_runtime/executor.cc:1197] [/device:CPU:0] (DEBUG INFO) Executor start aborting (this does not indicate an error and you can ignore this message): INVALID_ARGUMENT: You must feed a value for placeholder tensor 'gradients/split_1_grad/concat/split_1/split_dim' with dtype int32\n",
      "\t [[{{node gradients/split_1_grad/concat/split_1/split_dim}}]]\n",
      "2024-02-18 19:10:47.136841: I tensorflow/core/common_runtime/executor.cc:1197] [/device:CPU:0] (DEBUG INFO) Executor start aborting (this does not indicate an error and you can ignore this message): INVALID_ARGUMENT: You must feed a value for placeholder tensor 'gradients/split_2_grad/concat/split_2/split_dim' with dtype int32\n",
      "\t [[{{node gradients/split_2_grad/concat/split_2/split_dim}}]]\n",
      "2024-02-18 19:10:47.138084: I tensorflow/core/common_runtime/executor.cc:1197] [/device:CPU:0] (DEBUG INFO) Executor start aborting (this does not indicate an error and you can ignore this message): INVALID_ARGUMENT: You must feed a value for placeholder tensor 'gradients/split_grad/concat/split/split_dim' with dtype int32\n",
      "\t [[{{node gradients/split_grad/concat/split/split_dim}}]]\n",
      "2024-02-18 19:10:47.139411: I tensorflow/core/common_runtime/executor.cc:1197] [/device:CPU:0] (DEBUG INFO) Executor start aborting (this does not indicate an error and you can ignore this message): INVALID_ARGUMENT: You must feed a value for placeholder tensor 'gradients/split_1_grad/concat/split_1/split_dim' with dtype int32\n",
      "\t [[{{node gradients/split_1_grad/concat/split_1/split_dim}}]]\n",
      "2024-02-18 19:10:48.170372: I tensorflow/core/common_runtime/executor.cc:1197] [/device:CPU:0] (DEBUG INFO) Executor start aborting (this does not indicate an error and you can ignore this message): INVALID_ARGUMENT: You must feed a value for placeholder tensor 'gradients/split_2_grad/concat/split_2/split_dim' with dtype int32\n",
      "\t [[{{node gradients/split_2_grad/concat/split_2/split_dim}}]]\n",
      "2024-02-18 19:10:48.171760: I tensorflow/core/common_runtime/executor.cc:1197] [/device:CPU:0] (DEBUG INFO) Executor start aborting (this does not indicate an error and you can ignore this message): INVALID_ARGUMENT: You must feed a value for placeholder tensor 'gradients/split_grad/concat/split/split_dim' with dtype int32\n",
      "\t [[{{node gradients/split_grad/concat/split/split_dim}}]]\n",
      "2024-02-18 19:10:48.174086: I tensorflow/core/common_runtime/executor.cc:1197] [/device:CPU:0] (DEBUG INFO) Executor start aborting (this does not indicate an error and you can ignore this message): INVALID_ARGUMENT: You must feed a value for placeholder tensor 'gradients/split_1_grad/concat/split_1/split_dim' with dtype int32\n",
      "\t [[{{node gradients/split_1_grad/concat/split_1/split_dim}}]]\n",
      "2024-02-18 19:10:48.387297: I tensorflow/core/common_runtime/executor.cc:1197] [/device:CPU:0] (DEBUG INFO) Executor start aborting (this does not indicate an error and you can ignore this message): INVALID_ARGUMENT: You must feed a value for placeholder tensor 'gradients/split_2_grad/concat/split_2/split_dim' with dtype int32\n",
      "\t [[{{node gradients/split_2_grad/concat/split_2/split_dim}}]]\n",
      "2024-02-18 19:10:48.388691: I tensorflow/core/common_runtime/executor.cc:1197] [/device:CPU:0] (DEBUG INFO) Executor start aborting (this does not indicate an error and you can ignore this message): INVALID_ARGUMENT: You must feed a value for placeholder tensor 'gradients/split_grad/concat/split/split_dim' with dtype int32\n",
      "\t [[{{node gradients/split_grad/concat/split/split_dim}}]]\n",
      "2024-02-18 19:10:48.390256: I tensorflow/core/common_runtime/executor.cc:1197] [/device:CPU:0] (DEBUG INFO) Executor start aborting (this does not indicate an error and you can ignore this message): INVALID_ARGUMENT: You must feed a value for placeholder tensor 'gradients/split_1_grad/concat/split_1/split_dim' with dtype int32\n",
      "\t [[{{node gradients/split_1_grad/concat/split_1/split_dim}}]]\n",
      "2024-02-18 19:10:48.612884: I tensorflow/core/common_runtime/executor.cc:1197] [/device:CPU:0] (DEBUG INFO) Executor start aborting (this does not indicate an error and you can ignore this message): INVALID_ARGUMENT: You must feed a value for placeholder tensor 'gradients/split_2_grad/concat/split_2/split_dim' with dtype int32\n",
      "\t [[{{node gradients/split_2_grad/concat/split_2/split_dim}}]]\n",
      "2024-02-18 19:10:48.615223: I tensorflow/core/common_runtime/executor.cc:1197] [/device:CPU:0] (DEBUG INFO) Executor start aborting (this does not indicate an error and you can ignore this message): INVALID_ARGUMENT: You must feed a value for placeholder tensor 'gradients/split_grad/concat/split/split_dim' with dtype int32\n",
      "\t [[{{node gradients/split_grad/concat/split/split_dim}}]]\n",
      "2024-02-18 19:10:48.616976: I tensorflow/core/common_runtime/executor.cc:1197] [/device:CPU:0] (DEBUG INFO) Executor start aborting (this does not indicate an error and you can ignore this message): INVALID_ARGUMENT: You must feed a value for placeholder tensor 'gradients/split_1_grad/concat/split_1/split_dim' with dtype int32\n",
      "\t [[{{node gradients/split_1_grad/concat/split_1/split_dim}}]]\n"
     ]
    },
    {
     "name": "stdout",
     "output_type": "stream",
     "text": [
      "13/13 [==============================] - ETA: 0s - loss: 0.0260"
     ]
    },
    {
     "name": "stderr",
     "output_type": "stream",
     "text": [
      "2024-02-18 19:10:51.958253: I tensorflow/core/common_runtime/executor.cc:1197] [/device:CPU:0] (DEBUG INFO) Executor start aborting (this does not indicate an error and you can ignore this message): INVALID_ARGUMENT: You must feed a value for placeholder tensor 'gradients/split_2_grad/concat/split_2/split_dim' with dtype int32\n",
      "\t [[{{node gradients/split_2_grad/concat/split_2/split_dim}}]]\n",
      "2024-02-18 19:10:51.959311: I tensorflow/core/common_runtime/executor.cc:1197] [/device:CPU:0] (DEBUG INFO) Executor start aborting (this does not indicate an error and you can ignore this message): INVALID_ARGUMENT: You must feed a value for placeholder tensor 'gradients/split_grad/concat/split/split_dim' with dtype int32\n",
      "\t [[{{node gradients/split_grad/concat/split/split_dim}}]]\n",
      "2024-02-18 19:10:51.960435: I tensorflow/core/common_runtime/executor.cc:1197] [/device:CPU:0] (DEBUG INFO) Executor start aborting (this does not indicate an error and you can ignore this message): INVALID_ARGUMENT: You must feed a value for placeholder tensor 'gradients/split_1_grad/concat/split_1/split_dim' with dtype int32\n",
      "\t [[{{node gradients/split_1_grad/concat/split_1/split_dim}}]]\n",
      "2024-02-18 19:10:52.107321: I tensorflow/core/common_runtime/executor.cc:1197] [/device:CPU:0] (DEBUG INFO) Executor start aborting (this does not indicate an error and you can ignore this message): INVALID_ARGUMENT: You must feed a value for placeholder tensor 'gradients/split_2_grad/concat/split_2/split_dim' with dtype int32\n",
      "\t [[{{node gradients/split_2_grad/concat/split_2/split_dim}}]]\n",
      "2024-02-18 19:10:52.108242: I tensorflow/core/common_runtime/executor.cc:1197] [/device:CPU:0] (DEBUG INFO) Executor start aborting (this does not indicate an error and you can ignore this message): INVALID_ARGUMENT: You must feed a value for placeholder tensor 'gradients/split_grad/concat/split/split_dim' with dtype int32\n",
      "\t [[{{node gradients/split_grad/concat/split/split_dim}}]]\n",
      "2024-02-18 19:10:52.109209: I tensorflow/core/common_runtime/executor.cc:1197] [/device:CPU:0] (DEBUG INFO) Executor start aborting (this does not indicate an error and you can ignore this message): INVALID_ARGUMENT: You must feed a value for placeholder tensor 'gradients/split_1_grad/concat/split_1/split_dim' with dtype int32\n",
      "\t [[{{node gradients/split_1_grad/concat/split_1/split_dim}}]]\n",
      "2024-02-18 19:10:52.271193: I tensorflow/core/common_runtime/executor.cc:1197] [/device:CPU:0] (DEBUG INFO) Executor start aborting (this does not indicate an error and you can ignore this message): INVALID_ARGUMENT: You must feed a value for placeholder tensor 'gradients/split_2_grad/concat/split_2/split_dim' with dtype int32\n",
      "\t [[{{node gradients/split_2_grad/concat/split_2/split_dim}}]]\n",
      "2024-02-18 19:10:52.272553: I tensorflow/core/common_runtime/executor.cc:1197] [/device:CPU:0] (DEBUG INFO) Executor start aborting (this does not indicate an error and you can ignore this message): INVALID_ARGUMENT: You must feed a value for placeholder tensor 'gradients/split_grad/concat/split/split_dim' with dtype int32\n",
      "\t [[{{node gradients/split_grad/concat/split/split_dim}}]]\n",
      "2024-02-18 19:10:52.273445: I tensorflow/core/common_runtime/executor.cc:1197] [/device:CPU:0] (DEBUG INFO) Executor start aborting (this does not indicate an error and you can ignore this message): INVALID_ARGUMENT: You must feed a value for placeholder tensor 'gradients/split_1_grad/concat/split_1/split_dim' with dtype int32\n",
      "\t [[{{node gradients/split_1_grad/concat/split_1/split_dim}}]]\n"
     ]
    },
    {
     "name": "stdout",
     "output_type": "stream",
     "text": [
      "13/13 [==============================] - 6s 158ms/step - loss: 0.0260 - val_loss: 0.0014\n",
      "Epoch 2/100\n",
      "13/13 [==============================] - 1s 89ms/step - loss: 0.0123 - val_loss: 2.0160e-04\n",
      "Epoch 3/100\n",
      "13/13 [==============================] - 1s 90ms/step - loss: 0.0088 - val_loss: 5.7127e-04\n",
      "Epoch 4/100\n",
      "13/13 [==============================] - 1s 92ms/step - loss: 0.0073 - val_loss: 2.1691e-04\n",
      "Epoch 5/100\n",
      "13/13 [==============================] - 1s 92ms/step - loss: 0.0060 - val_loss: 2.5015e-04\n",
      "Epoch 6/100\n",
      "13/13 [==============================] - 1s 101ms/step - loss: 0.0052 - val_loss: 3.9800e-04\n",
      "Epoch 7/100\n",
      "13/13 [==============================] - 1s 95ms/step - loss: 0.0046 - val_loss: 3.5017e-04\n",
      "Epoch 8/100\n",
      "13/13 [==============================] - 1s 106ms/step - loss: 0.0042 - val_loss: 2.0247e-04\n",
      "Epoch 9/100\n",
      "13/13 [==============================] - 2s 111ms/step - loss: 0.0039 - val_loss: 4.8133e-04\n",
      "Epoch 10/100\n",
      "13/13 [==============================] - 1s 107ms/step - loss: 0.0037 - val_loss: 1.8728e-04\n",
      "Epoch 11/100\n",
      "13/13 [==============================] - 1s 107ms/step - loss: 0.0035 - val_loss: 4.6615e-04\n",
      "Epoch 12/100\n",
      "13/13 [==============================] - 2s 118ms/step - loss: 0.0034 - val_loss: 1.9086e-04\n",
      "Epoch 13/100\n",
      "13/13 [==============================] - 2s 118ms/step - loss: 0.0032 - val_loss: 3.4055e-04\n",
      "Epoch 14/100\n",
      "13/13 [==============================] - 1s 112ms/step - loss: 0.0040 - val_loss: 8.0247e-04\n",
      "Epoch 15/100\n",
      "13/13 [==============================] - 1s 113ms/step - loss: 0.0032 - val_loss: 4.3097e-04\n",
      "Epoch 16/100\n",
      "13/13 [==============================] - 2s 128ms/step - loss: 0.0029 - val_loss: 4.1585e-04\n",
      "Epoch 17/100\n",
      "13/13 [==============================] - 1s 115ms/step - loss: 0.0026 - val_loss: 1.6529e-04\n",
      "Epoch 18/100\n",
      "13/13 [==============================] - 2s 145ms/step - loss: 0.0025 - val_loss: 1.9260e-04\n",
      "Epoch 19/100\n",
      "13/13 [==============================] - 2s 151ms/step - loss: 0.0024 - val_loss: 2.0320e-04\n",
      "Epoch 20/100\n",
      "13/13 [==============================] - 1s 95ms/step - loss: 0.0026 - val_loss: 1.5400e-04\n",
      "Epoch 21/100\n",
      "13/13 [==============================] - 1s 112ms/step - loss: 0.0026 - val_loss: 6.0050e-04\n",
      "Epoch 22/100\n",
      "13/13 [==============================] - 2s 133ms/step - loss: 0.0023 - val_loss: 2.2423e-04\n",
      "Epoch 23/100\n",
      "13/13 [==============================] - 2s 137ms/step - loss: 0.0022 - val_loss: 2.6196e-04\n",
      "Epoch 24/100\n",
      "13/13 [==============================] - 1s 112ms/step - loss: 0.0020 - val_loss: 1.3615e-04\n",
      "Epoch 25/100\n",
      "13/13 [==============================] - 2s 123ms/step - loss: 0.0023 - val_loss: 1.3700e-04\n",
      "Epoch 26/100\n",
      "13/13 [==============================] - 2s 116ms/step - loss: 0.0038 - val_loss: 8.8972e-04\n",
      "Epoch 27/100\n",
      "13/13 [==============================] - 1s 110ms/step - loss: 0.0026 - val_loss: 1.8585e-04\n",
      "Epoch 28/100\n",
      "13/13 [==============================] - 1s 95ms/step - loss: 0.0019 - val_loss: 2.8002e-04\n",
      "Epoch 29/100\n",
      "13/13 [==============================] - 1s 94ms/step - loss: 0.0018 - val_loss: 2.4645e-04\n",
      "Epoch 30/100\n",
      "13/13 [==============================] - 1s 94ms/step - loss: 0.0020 - val_loss: 1.6463e-04\n",
      "Epoch 31/100\n",
      "13/13 [==============================] - 1s 94ms/step - loss: 0.0023 - val_loss: 2.2308e-04\n",
      "Epoch 32/100\n",
      "13/13 [==============================] - 1s 101ms/step - loss: 0.0019 - val_loss: 1.6322e-04\n",
      "Epoch 33/100\n",
      "13/13 [==============================] - 1s 102ms/step - loss: 0.0022 - val_loss: 1.6992e-04\n",
      "Epoch 34/100\n",
      "13/13 [==============================] - 1s 102ms/step - loss: 0.0027 - val_loss: 2.3744e-04\n",
      "Epoch 35/100\n",
      "13/13 [==============================] - 1s 102ms/step - loss: 0.0026 - val_loss: 3.7147e-04\n",
      "Epoch 36/100\n",
      "13/13 [==============================] - 1s 101ms/step - loss: 0.0021 - val_loss: 1.3910e-04\n",
      "Epoch 37/100\n",
      "13/13 [==============================] - 2s 136ms/step - loss: 0.0017 - val_loss: 2.1290e-04\n",
      "Epoch 38/100\n",
      "13/13 [==============================] - 1s 109ms/step - loss: 0.0017 - val_loss: 2.4610e-04\n",
      "Epoch 39/100\n",
      "13/13 [==============================] - 1s 98ms/step - loss: 0.0018 - val_loss: 4.0979e-04\n",
      "Epoch 40/100\n",
      "13/13 [==============================] - 1s 101ms/step - loss: 0.0019 - val_loss: 4.2755e-04\n",
      "Epoch 41/100\n",
      "13/13 [==============================] - 1s 103ms/step - loss: 0.0017 - val_loss: 1.5705e-04\n",
      "Epoch 42/100\n",
      "13/13 [==============================] - 1s 102ms/step - loss: 0.0014 - val_loss: 1.5566e-04\n",
      "Epoch 43/100\n",
      "13/13 [==============================] - 1s 96ms/step - loss: 0.0013 - val_loss: 1.6937e-04\n",
      "Epoch 44/100\n",
      "13/13 [==============================] - 1s 94ms/step - loss: 0.0019 - val_loss: 2.3848e-04\n",
      "Epoch 45/100\n",
      "13/13 [==============================] - 1s 98ms/step - loss: 0.0016 - val_loss: 2.1131e-04\n",
      "Epoch 46/100\n",
      "13/13 [==============================] - 1s 94ms/step - loss: 0.0017 - val_loss: 1.6508e-04\n",
      "Epoch 47/100\n",
      "13/13 [==============================] - 1s 106ms/step - loss: 0.0019 - val_loss: 2.7822e-04\n",
      "Epoch 48/100\n",
      "13/13 [==============================] - 1s 106ms/step - loss: 0.0018 - val_loss: 1.5956e-04\n",
      "Epoch 49/100\n",
      "13/13 [==============================] - 1s 105ms/step - loss: 0.0016 - val_loss: 2.7711e-04\n",
      "Epoch 50/100\n",
      "13/13 [==============================] - 1s 101ms/step - loss: 0.0016 - val_loss: 2.1776e-04\n",
      "Epoch 51/100\n",
      "13/13 [==============================] - 1s 96ms/step - loss: 0.0015 - val_loss: 1.4356e-04\n",
      "Epoch 52/100\n",
      "13/13 [==============================] - 1s 96ms/step - loss: 0.0013 - val_loss: 1.5559e-04\n",
      "Epoch 53/100\n",
      "13/13 [==============================] - 1s 97ms/step - loss: 0.0017 - val_loss: 5.1331e-04\n",
      "Epoch 54/100\n",
      "13/13 [==============================] - 1s 102ms/step - loss: 0.0015 - val_loss: 1.7796e-04\n",
      "Epoch 55/100\n",
      "13/13 [==============================] - 2s 138ms/step - loss: 0.0012 - val_loss: 2.8495e-04\n",
      "Epoch 56/100\n",
      "13/13 [==============================] - 1s 99ms/step - loss: 0.0012 - val_loss: 1.4191e-04\n",
      "Epoch 57/100\n",
      "13/13 [==============================] - 1s 108ms/step - loss: 0.0011 - val_loss: 1.7507e-04\n",
      "Epoch 58/100\n",
      "13/13 [==============================] - 2s 176ms/step - loss: 0.0013 - val_loss: 1.8990e-04\n",
      "Epoch 59/100\n",
      "13/13 [==============================] - 2s 132ms/step - loss: 0.0016 - val_loss: 1.4703e-04\n",
      "Epoch 60/100\n",
      "13/13 [==============================] - 2s 142ms/step - loss: 0.0017 - val_loss: 1.3701e-04\n",
      "Epoch 61/100\n",
      "13/13 [==============================] - 2s 164ms/step - loss: 0.0013 - val_loss: 2.0828e-04\n",
      "Epoch 62/100\n",
      "13/13 [==============================] - 3s 226ms/step - loss: 0.0014 - val_loss: 1.5713e-04\n",
      "Epoch 63/100\n",
      "13/13 [==============================] - 3s 257ms/step - loss: 0.0013 - val_loss: 2.2373e-04\n",
      "Epoch 64/100\n",
      "13/13 [==============================] - 3s 248ms/step - loss: 0.0014 - val_loss: 4.4235e-04\n",
      "Epoch 65/100\n",
      "13/13 [==============================] - 5s 373ms/step - loss: 0.0011 - val_loss: 1.3593e-04\n",
      "Epoch 66/100\n",
      "13/13 [==============================] - 5s 364ms/step - loss: 0.0017 - val_loss: 1.4658e-04\n",
      "Epoch 67/100\n",
      "13/13 [==============================] - 5s 422ms/step - loss: 0.0019 - val_loss: 1.5074e-04\n",
      "Epoch 68/100\n",
      "13/13 [==============================] - 5s 417ms/step - loss: 0.0017 - val_loss: 1.6857e-04\n",
      "Epoch 69/100\n",
      "13/13 [==============================] - 5s 415ms/step - loss: 0.0018 - val_loss: 2.2687e-04\n",
      "Epoch 70/100\n",
      "13/13 [==============================] - 5s 418ms/step - loss: 0.0017 - val_loss: 1.6060e-04\n",
      "Epoch 71/100\n",
      "13/13 [==============================] - 5s 398ms/step - loss: 0.0011 - val_loss: 1.5055e-04\n",
      "Epoch 72/100\n",
      "13/13 [==============================] - 5s 376ms/step - loss: 0.0014 - val_loss: 1.2929e-04\n",
      "Epoch 73/100\n",
      "13/13 [==============================] - 5s 370ms/step - loss: 0.0011 - val_loss: 1.2379e-04\n",
      "Epoch 74/100\n",
      "13/13 [==============================] - 4s 318ms/step - loss: 0.0012 - val_loss: 1.3286e-04\n",
      "Epoch 75/100\n",
      "13/13 [==============================] - 4s 340ms/step - loss: 9.9230e-04 - val_loss: 1.2356e-04\n",
      "Epoch 76/100\n",
      "13/13 [==============================] - 4s 313ms/step - loss: 0.0012 - val_loss: 1.1366e-04\n",
      "Epoch 77/100\n",
      "13/13 [==============================] - 3s 252ms/step - loss: 0.0014 - val_loss: 2.0245e-04\n",
      "Epoch 78/100\n"
     ]
    },
    {
     "name": "stdout",
     "output_type": "stream",
     "text": [
      "13/13 [==============================] - 3s 213ms/step - loss: 0.0012 - val_loss: 1.4501e-04\n",
      "Epoch 79/100\n",
      "13/13 [==============================] - 3s 214ms/step - loss: 9.7993e-04 - val_loss: 1.4131e-04\n",
      "Epoch 80/100\n",
      "13/13 [==============================] - 3s 201ms/step - loss: 8.6393e-04 - val_loss: 1.1111e-04\n",
      "Epoch 81/100\n",
      "13/13 [==============================] - 4s 304ms/step - loss: 8.9859e-04 - val_loss: 1.2839e-04\n",
      "Epoch 82/100\n",
      "13/13 [==============================] - 3s 269ms/step - loss: 9.7761e-04 - val_loss: 1.1408e-04\n",
      "Epoch 83/100\n",
      "13/13 [==============================] - 3s 246ms/step - loss: 0.0010 - val_loss: 1.1741e-04\n",
      "Epoch 84/100\n",
      "13/13 [==============================] - 3s 254ms/step - loss: 0.0011 - val_loss: 1.2098e-04\n",
      "Epoch 85/100\n",
      "13/13 [==============================] - 3s 230ms/step - loss: 8.1121e-04 - val_loss: 1.1520e-04\n",
      "Epoch 86/100\n",
      "13/13 [==============================] - 3s 239ms/step - loss: 8.6816e-04 - val_loss: 1.0774e-04\n",
      "Epoch 87/100\n",
      "13/13 [==============================] - 4s 312ms/step - loss: 8.9415e-04 - val_loss: 1.1473e-04\n",
      "Epoch 88/100\n",
      "13/13 [==============================] - 3s 271ms/step - loss: 0.0012 - val_loss: 1.0998e-04\n",
      "Epoch 89/100\n",
      "13/13 [==============================] - 4s 354ms/step - loss: 0.0011 - val_loss: 1.1416e-04\n",
      "Epoch 90/100\n",
      "13/13 [==============================] - 4s 319ms/step - loss: 9.9487e-04 - val_loss: 2.2036e-04\n",
      "Epoch 91/100\n",
      "13/13 [==============================] - 3s 261ms/step - loss: 9.1058e-04 - val_loss: 2.1397e-04\n",
      "Epoch 92/100\n",
      "13/13 [==============================] - 5s 373ms/step - loss: 9.8363e-04 - val_loss: 1.6420e-04\n",
      "Epoch 93/100\n",
      "13/13 [==============================] - 5s 360ms/step - loss: 0.0012 - val_loss: 1.0468e-04\n",
      "Epoch 94/100\n",
      "13/13 [==============================] - 4s 335ms/step - loss: 9.7493e-04 - val_loss: 1.2135e-04\n",
      "Epoch 95/100\n",
      "13/13 [==============================] - 5s 354ms/step - loss: 9.1352e-04 - val_loss: 1.4222e-04\n",
      "Epoch 96/100\n",
      "13/13 [==============================] - 4s 332ms/step - loss: 0.0010 - val_loss: 1.8938e-04\n",
      "Epoch 97/100\n",
      "13/13 [==============================] - 4s 341ms/step - loss: 0.0011 - val_loss: 1.1914e-04\n",
      "Epoch 98/100\n",
      "13/13 [==============================] - 4s 289ms/step - loss: 7.2373e-04 - val_loss: 1.0299e-04\n",
      "Epoch 99/100\n",
      "13/13 [==============================] - 3s 265ms/step - loss: 6.8695e-04 - val_loss: 1.0453e-04\n",
      "Epoch 100/100\n",
      "13/13 [==============================] - 3s 251ms/step - loss: 9.0150e-04 - val_loss: 1.2588e-04\n"
     ]
    },
    {
     "data": {
      "text/plain": [
       "<keras.callbacks.History at 0x7f90331b10c0>"
      ]
     },
     "execution_count": 47,
     "metadata": {},
     "output_type": "execute_result"
    }
   ],
   "source": [
    "model.fit(X_train,y_train,validation_data=(X_test,ytest),epochs=100,batch_size=64,verbose=1)"
   ]
  },
  {
   "cell_type": "code",
   "execution_count": 48,
   "id": "96e3ca37",
   "metadata": {},
   "outputs": [],
   "source": [
    "import tensorflow as tf"
   ]
  },
  {
   "cell_type": "code",
   "execution_count": 49,
   "id": "2b452255",
   "metadata": {},
   "outputs": [
    {
     "name": "stderr",
     "output_type": "stream",
     "text": [
      "2024-02-18 19:17:41.052487: I tensorflow/core/common_runtime/executor.cc:1197] [/device:CPU:0] (DEBUG INFO) Executor start aborting (this does not indicate an error and you can ignore this message): INVALID_ARGUMENT: You must feed a value for placeholder tensor 'gradients/split_2_grad/concat/split_2/split_dim' with dtype int32\n",
      "\t [[{{node gradients/split_2_grad/concat/split_2/split_dim}}]]\n",
      "2024-02-18 19:17:41.053429: I tensorflow/core/common_runtime/executor.cc:1197] [/device:CPU:0] (DEBUG INFO) Executor start aborting (this does not indicate an error and you can ignore this message): INVALID_ARGUMENT: You must feed a value for placeholder tensor 'gradients/split_grad/concat/split/split_dim' with dtype int32\n",
      "\t [[{{node gradients/split_grad/concat/split/split_dim}}]]\n",
      "2024-02-18 19:17:41.054669: I tensorflow/core/common_runtime/executor.cc:1197] [/device:CPU:0] (DEBUG INFO) Executor start aborting (this does not indicate an error and you can ignore this message): INVALID_ARGUMENT: You must feed a value for placeholder tensor 'gradients/split_1_grad/concat/split_1/split_dim' with dtype int32\n",
      "\t [[{{node gradients/split_1_grad/concat/split_1/split_dim}}]]\n",
      "2024-02-18 19:17:41.203785: I tensorflow/core/common_runtime/executor.cc:1197] [/device:CPU:0] (DEBUG INFO) Executor start aborting (this does not indicate an error and you can ignore this message): INVALID_ARGUMENT: You must feed a value for placeholder tensor 'gradients/split_2_grad/concat/split_2/split_dim' with dtype int32\n",
      "\t [[{{node gradients/split_2_grad/concat/split_2/split_dim}}]]\n",
      "2024-02-18 19:17:41.204700: I tensorflow/core/common_runtime/executor.cc:1197] [/device:CPU:0] (DEBUG INFO) Executor start aborting (this does not indicate an error and you can ignore this message): INVALID_ARGUMENT: You must feed a value for placeholder tensor 'gradients/split_grad/concat/split/split_dim' with dtype int32\n",
      "\t [[{{node gradients/split_grad/concat/split/split_dim}}]]\n",
      "2024-02-18 19:17:41.205740: I tensorflow/core/common_runtime/executor.cc:1197] [/device:CPU:0] (DEBUG INFO) Executor start aborting (this does not indicate an error and you can ignore this message): INVALID_ARGUMENT: You must feed a value for placeholder tensor 'gradients/split_1_grad/concat/split_1/split_dim' with dtype int32\n",
      "\t [[{{node gradients/split_1_grad/concat/split_1/split_dim}}]]\n",
      "2024-02-18 19:17:41.374930: I tensorflow/core/common_runtime/executor.cc:1197] [/device:CPU:0] (DEBUG INFO) Executor start aborting (this does not indicate an error and you can ignore this message): INVALID_ARGUMENT: You must feed a value for placeholder tensor 'gradients/split_2_grad/concat/split_2/split_dim' with dtype int32\n",
      "\t [[{{node gradients/split_2_grad/concat/split_2/split_dim}}]]\n",
      "2024-02-18 19:17:41.376038: I tensorflow/core/common_runtime/executor.cc:1197] [/device:CPU:0] (DEBUG INFO) Executor start aborting (this does not indicate an error and you can ignore this message): INVALID_ARGUMENT: You must feed a value for placeholder tensor 'gradients/split_grad/concat/split/split_dim' with dtype int32\n",
      "\t [[{{node gradients/split_grad/concat/split/split_dim}}]]\n",
      "2024-02-18 19:17:41.377247: I tensorflow/core/common_runtime/executor.cc:1197] [/device:CPU:0] (DEBUG INFO) Executor start aborting (this does not indicate an error and you can ignore this message): INVALID_ARGUMENT: You must feed a value for placeholder tensor 'gradients/split_1_grad/concat/split_1/split_dim' with dtype int32\n",
      "\t [[{{node gradients/split_1_grad/concat/split_1/split_dim}}]]\n"
     ]
    },
    {
     "name": "stdout",
     "output_type": "stream",
     "text": [
      "25/25 [==============================] - 1s 22ms/step\n",
      "9/9 [==============================] - 0s 22ms/step\n"
     ]
    }
   ],
   "source": [
    "train_predict=model.predict(X_train)\n",
    "test_predict=model.predict(X_test)\n",
    "#Transform back to original form \n",
    "train_predict = scaler.inverse_transform(train_predict)\n",
    "test_predict = scaler.inverse_transform(test_predict)"
   ]
  },
  {
   "cell_type": "code",
   "execution_count": 50,
   "id": "1b3e3540",
   "metadata": {},
   "outputs": [
    {
     "data": {
      "text/plain": [
       "214.1949205052931"
      ]
     },
     "execution_count": 50,
     "metadata": {},
     "output_type": "execute_result"
    }
   ],
   "source": [
    "### Calculate RMSE performance metrics\n",
    "import math\n",
    "from sklearn.metrics import mean_squared_error\n",
    "math.sqrt(mean_squared_error(y_train,train_predict))"
   ]
  },
  {
   "cell_type": "code",
   "execution_count": 51,
   "id": "3c397f33",
   "metadata": {},
   "outputs": [
    {
     "data": {
      "text/plain": [
       "173.3811828898688"
      ]
     },
     "execution_count": 51,
     "metadata": {},
     "output_type": "execute_result"
    }
   ],
   "source": [
    "### Test Data RMSE\n",
    "math.sqrt(mean_squared_error(ytest,test_predict))"
   ]
  },
  {
   "cell_type": "code",
   "execution_count": 52,
   "id": "9821f6a9",
   "metadata": {},
   "outputs": [
    {
     "data": {
      "image/png": "[encoded data removed]",
      "text/plain": [
       "<Figure size 640x480 with 1 Axes>"
      ]
     },
     "metadata": {},
     "output_type": "display_data"
    }
   ],
   "source": [
    "### Plotting \n",
    "# shift train predictions for plotting\n",
    "look_back=100\n",
    "trainPredictPlot = numpy.empty_like(df1)\n",
    "trainPredictPlot[:, :] = np.nan\n",
    "trainPredictPlot[look_back:len(train_predict)+look_back, :] = train_predict\n",
    "# shift test predictions for plotting\n",
    "testPredictPlot = numpy.empty_like(df1)\n",
    "testPredictPlot[:, :] = numpy.nan\n",
    "testPredictPlot[len(train_predict)+(look_back*2)+1:len(df1)-1, :] = test_predict\n",
    "# plot baseline and predictions\n",
    "plt.plot(scaler.inverse_transform(df1))\n",
    "plt.plot(trainPredictPlot)\n",
    "plt.plot(testPredictPlot)\n",
    "plt.show()"
   ]
  },
  {
   "cell_type": "markdown",
   "id": "cdca8771",
   "metadata": {},
   "source": [
    "# Prediction"
   ]
  },
  {
   "cell_type": "code",
   "execution_count": 54,
   "id": "5f09d925",
   "metadata": {},
   "outputs": [
    {
     "data": {
      "text/plain": [
       "(1, 100)"
      ]
     },
     "execution_count": 54,
     "metadata": {},
     "output_type": "execute_result"
    }
   ],
   "source": [
    "# we will be predicting stock price of a day, based on previous 100 days\n",
    "x_input=test_data[len(test_data)-100:].reshape(1,-1)\n",
    "x_input.shape"
   ]
  },
  {
   "cell_type": "code",
   "execution_count": 55,
   "id": "81a06d87",
   "metadata": {},
   "outputs": [],
   "source": [
    "temp_input=list(x_input)\n",
    "temp_input=temp_input[0].tolist()"
   ]
  },
  {
   "cell_type": "code",
   "execution_count": 56,
   "id": "973d0ed9",
   "metadata": {},
   "outputs": [
    {
     "name": "stdout",
     "output_type": "stream",
     "text": [
      "[0.19624406]\n",
      "101\n",
      "1 day input [0.16594759 0.15795247 0.16448507 0.16253504 0.16505789 0.16221816\n",
      " 0.16879951 0.16882389 0.17616088 0.1793053  0.17954906 0.18410725\n",
      " 0.18739793 0.17601463 0.17575868 0.17316271 0.17428397 0.17250457\n",
      " 0.1617794  0.16699573 0.16414381 0.16046313 0.15202925 0.15717246\n",
      " 0.15797684 0.16199878 0.17301645 0.1698964  0.17511274 0.18193784\n",
      " 0.18966484 0.19115174 0.19361365 0.1981231  0.20270567 0.20305911\n",
      " 0.20726386 0.20892139 0.20804388 0.21174893 0.21194394 0.21043266\n",
      " 0.208117   0.20777575 0.21050579 0.207922   0.20911639 0.20826325\n",
      " 0.20882389 0.21915905 0.21716027 0.21854966 0.21589275 0.21581962\n",
      " 0.22071907 0.22786106 0.22666667 0.22315661 0.22332724 0.22513102\n",
      " 0.22318099 0.22093845 0.21711152 0.21438147 0.21840341 0.2178184\n",
      " 0.20136502 0.19422303 0.18917733 0.18878732 0.18901889 0.19349177\n",
      " 0.19453991 0.19987812 0.1987081  0.18920171 0.1870323  0.19878123\n",
      " 0.20667885 0.21391834 0.22054845 0.22152346 0.22103595 0.21872029\n",
      " 0.21321146 0.21060329 0.20109689 0.19365021 0.18359537 0.20380256\n",
      " 0.20065814 0.20987203 0.20681292 0.20502133 0.20444851 0.19800122\n",
      " 0.19690433 0.19258988 0.192273   0.19624406]\n",
      "1 day output [[0.19473892]]\n",
      "2 day input [0.15795247 0.16448507 0.16253504 0.16505789 0.16221816 0.16879951\n",
      " 0.16882389 0.17616088 0.1793053  0.17954906 0.18410725 0.18739793\n",
      " 0.17601463 0.17575868 0.17316271 0.17428397 0.17250457 0.1617794\n",
      " 0.16699573 0.16414381 0.16046313 0.15202925 0.15717246 0.15797684\n",
      " 0.16199878 0.17301645 0.1698964  0.17511274 0.18193784 0.18966484\n",
      " 0.19115174 0.19361365 0.1981231  0.20270567 0.20305911 0.20726386\n",
      " 0.20892139 0.20804388 0.21174893 0.21194394 0.21043266 0.208117\n",
      " 0.20777575 0.21050579 0.207922   0.20911639 0.20826325 0.20882389\n",
      " 0.21915905 0.21716027 0.21854966 0.21589275 0.21581962 0.22071907\n",
      " 0.22786106 0.22666667 0.22315661 0.22332724 0.22513102 0.22318099\n",
      " 0.22093845 0.21711152 0.21438147 0.21840341 0.2178184  0.20136502\n",
      " 0.19422303 0.18917733 0.18878732 0.18901889 0.19349177 0.19453991\n",
      " 0.19987812 0.1987081  0.18920171 0.1870323  0.19878123 0.20667885\n",
      " 0.21391834 0.22054845 0.22152346 0.22103595 0.21872029 0.21321146\n",
      " 0.21060329 0.20109689 0.19365021 0.18359537 0.20380256 0.20065814\n",
      " 0.20987203 0.20681292 0.20502133 0.20444851 0.19800122 0.19690433\n",
      " 0.19258988 0.192273   0.19624406 0.19473892]\n",
      "2 day output [[0.19356027]]\n",
      "3 day input [0.16448507 0.16253504 0.16505789 0.16221816 0.16879951 0.16882389\n",
      " 0.17616088 0.1793053  0.17954906 0.18410725 0.18739793 0.17601463\n",
      " 0.17575868 0.17316271 0.17428397 0.17250457 0.1617794  0.16699573\n",
      " 0.16414381 0.16046313 0.15202925 0.15717246 0.15797684 0.16199878\n",
      " 0.17301645 0.1698964  0.17511274 0.18193784 0.18966484 0.19115174\n",
      " 0.19361365 0.1981231  0.20270567 0.20305911 0.20726386 0.20892139\n",
      " 0.20804388 0.21174893 0.21194394 0.21043266 0.208117   0.20777575\n",
      " 0.21050579 0.207922   0.20911639 0.20826325 0.20882389 0.21915905\n",
      " 0.21716027 0.21854966 0.21589275 0.21581962 0.22071907 0.22786106\n",
      " 0.22666667 0.22315661 0.22332724 0.22513102 0.22318099 0.22093845\n",
      " 0.21711152 0.21438147 0.21840341 0.2178184  0.20136502 0.19422303\n",
      " 0.18917733 0.18878732 0.18901889 0.19349177 0.19453991 0.19987812\n",
      " 0.1987081  0.18920171 0.1870323  0.19878123 0.20667885 0.21391834\n",
      " 0.22054845 0.22152346 0.22103595 0.21872029 0.21321146 0.21060329\n",
      " 0.20109689 0.19365021 0.18359537 0.20380256 0.20065814 0.20987203\n",
      " 0.20681292 0.20502133 0.20444851 0.19800122 0.19690433 0.19258988\n",
      " 0.192273   0.19624406 0.19473892 0.19356027]\n",
      "3 day output [[0.19261214]]\n",
      "4 day input [0.16253504 0.16505789 0.16221816 0.16879951 0.16882389 0.17616088\n",
      " 0.1793053  0.17954906 0.18410725 0.18739793 0.17601463 0.17575868\n",
      " 0.17316271 0.17428397 0.17250457 0.1617794  0.16699573 0.16414381\n",
      " 0.16046313 0.15202925 0.15717246 0.15797684 0.16199878 0.17301645\n",
      " 0.1698964  0.17511274 0.18193784 0.18966484 0.19115174 0.19361365\n",
      " 0.1981231  0.20270567 0.20305911 0.20726386 0.20892139 0.20804388\n",
      " 0.21174893 0.21194394 0.21043266 0.208117   0.20777575 0.21050579\n",
      " 0.207922   0.20911639 0.20826325 0.20882389 0.21915905 0.21716027\n",
      " 0.21854966 0.21589275 0.21581962 0.22071907 0.22786106 0.22666667\n",
      " 0.22315661 0.22332724 0.22513102 0.22318099 0.22093845 0.21711152\n",
      " 0.21438147 0.21840341 0.2178184  0.20136502 0.19422303 0.18917733\n",
      " 0.18878732 0.18901889 0.19349177 0.19453991 0.19987812 0.1987081\n",
      " 0.18920171 0.1870323  0.19878123 0.20667885 0.21391834 0.22054845\n",
      " 0.22152346 0.22103595 0.21872029 0.21321146 0.21060329 0.20109689\n",
      " 0.19365021 0.18359537 0.20380256 0.20065814 0.20987203 0.20681292\n",
      " 0.20502133 0.20444851 0.19800122 0.19690433 0.19258988 0.192273\n",
      " 0.19624406 0.19473892 0.19356027 0.19261214]\n",
      "4 day output [[0.19179666]]\n",
      "5 day input [0.16505789 0.16221816 0.16879951 0.16882389 0.17616088 0.1793053\n",
      " 0.17954906 0.18410725 0.18739793 0.17601463 0.17575868 0.17316271\n",
      " 0.17428397 0.17250457 0.1617794  0.16699573 0.16414381 0.16046313\n",
      " 0.15202925 0.15717246 0.15797684 0.16199878 0.17301645 0.1698964\n",
      " 0.17511274 0.18193784 0.18966484 0.19115174 0.19361365 0.1981231\n",
      " 0.20270567 0.20305911 0.20726386 0.20892139 0.20804388 0.21174893\n",
      " 0.21194394 0.21043266 0.208117   0.20777575 0.21050579 0.207922\n",
      " 0.20911639 0.20826325 0.20882389 0.21915905 0.21716027 0.21854966\n",
      " 0.21589275 0.21581962 0.22071907 0.22786106 0.22666667 0.22315661\n",
      " 0.22332724 0.22513102 0.22318099 0.22093845 0.21711152 0.21438147\n",
      " 0.21840341 0.2178184  0.20136502 0.19422303 0.18917733 0.18878732\n",
      " 0.18901889 0.19349177 0.19453991 0.19987812 0.1987081  0.18920171\n",
      " 0.1870323  0.19878123 0.20667885 0.21391834 0.22054845 0.22152346\n",
      " 0.22103595 0.21872029 0.21321146 0.21060329 0.20109689 0.19365021\n",
      " 0.18359537 0.20380256 0.20065814 0.20987203 0.20681292 0.20502133\n",
      " 0.20444851 0.19800122 0.19690433 0.19258988 0.192273   0.19624406\n",
      " 0.19473892 0.19356027 0.19261214 0.19179666]\n",
      "5 day output [[0.19104853]]\n",
      "6 day input [0.16221816 0.16879951 0.16882389 0.17616088 0.1793053  0.17954906\n",
      " 0.18410725 0.18739793 0.17601463 0.17575868 0.17316271 0.17428397\n",
      " 0.17250457 0.1617794  0.16699573 0.16414381 0.16046313 0.15202925\n",
      " 0.15717246 0.15797684 0.16199878 0.17301645 0.1698964  0.17511274\n",
      " 0.18193784 0.18966484 0.19115174 0.19361365 0.1981231  0.20270567\n",
      " 0.20305911 0.20726386 0.20892139 0.20804388 0.21174893 0.21194394\n",
      " 0.21043266 0.208117   0.20777575 0.21050579 0.207922   0.20911639\n",
      " 0.20826325 0.20882389 0.21915905 0.21716027 0.21854966 0.21589275\n",
      " 0.21581962 0.22071907 0.22786106 0.22666667 0.22315661 0.22332724\n",
      " 0.22513102 0.22318099 0.22093845 0.21711152 0.21438147 0.21840341\n",
      " 0.2178184  0.20136502 0.19422303 0.18917733 0.18878732 0.18901889\n",
      " 0.19349177 0.19453991 0.19987812 0.1987081  0.18920171 0.1870323\n",
      " 0.19878123 0.20667885 0.21391834 0.22054845 0.22152346 0.22103595\n",
      " 0.21872029 0.21321146 0.21060329 0.20109689 0.19365021 0.18359537\n",
      " 0.20380256 0.20065814 0.20987203 0.20681292 0.20502133 0.20444851\n",
      " 0.19800122 0.19690433 0.19258988 0.192273   0.19624406 0.19473892\n",
      " 0.19356027 0.19261214 0.19179666 0.19104853]\n",
      "6 day output [[0.19033188]]\n",
      "7 day input [0.16879951 0.16882389 0.17616088 0.1793053  0.17954906 0.18410725\n",
      " 0.18739793 0.17601463 0.17575868 0.17316271 0.17428397 0.17250457\n",
      " 0.1617794  0.16699573 0.16414381 0.16046313 0.15202925 0.15717246\n",
      " 0.15797684 0.16199878 0.17301645 0.1698964  0.17511274 0.18193784\n",
      " 0.18966484 0.19115174 0.19361365 0.1981231  0.20270567 0.20305911\n",
      " 0.20726386 0.20892139 0.20804388 0.21174893 0.21194394 0.21043266\n",
      " 0.208117   0.20777575 0.21050579 0.207922   0.20911639 0.20826325\n",
      " 0.20882389 0.21915905 0.21716027 0.21854966 0.21589275 0.21581962\n",
      " 0.22071907 0.22786106 0.22666667 0.22315661 0.22332724 0.22513102\n",
      " 0.22318099 0.22093845 0.21711152 0.21438147 0.21840341 0.2178184\n",
      " 0.20136502 0.19422303 0.18917733 0.18878732 0.18901889 0.19349177\n",
      " 0.19453991 0.19987812 0.1987081  0.18920171 0.1870323  0.19878123\n",
      " 0.20667885 0.21391834 0.22054845 0.22152346 0.22103595 0.21872029\n",
      " 0.21321146 0.21060329 0.20109689 0.19365021 0.18359537 0.20380256\n",
      " 0.20065814 0.20987203 0.20681292 0.20502133 0.20444851 0.19800122\n",
      " 0.19690433 0.19258988 0.192273   0.19624406 0.19473892 0.19356027\n",
      " 0.19261214 0.19179666 0.19104853 0.19033188]\n",
      "7 day output [[0.18962976]]\n",
      "8 day input [0.16882389 0.17616088 0.1793053  0.17954906 0.18410725 0.18739793\n",
      " 0.17601463 0.17575868 0.17316271 0.17428397 0.17250457 0.1617794\n",
      " 0.16699573 0.16414381 0.16046313 0.15202925 0.15717246 0.15797684\n",
      " 0.16199878 0.17301645 0.1698964  0.17511274 0.18193784 0.18966484\n",
      " 0.19115174 0.19361365 0.1981231  0.20270567 0.20305911 0.20726386\n",
      " 0.20892139 0.20804388 0.21174893 0.21194394 0.21043266 0.208117\n",
      " 0.20777575 0.21050579 0.207922   0.20911639 0.20826325 0.20882389\n",
      " 0.21915905 0.21716027 0.21854966 0.21589275 0.21581962 0.22071907\n",
      " 0.22786106 0.22666667 0.22315661 0.22332724 0.22513102 0.22318099\n",
      " 0.22093845 0.21711152 0.21438147 0.21840341 0.2178184  0.20136502\n",
      " 0.19422303 0.18917733 0.18878732 0.18901889 0.19349177 0.19453991\n",
      " 0.19987812 0.1987081  0.18920171 0.1870323  0.19878123 0.20667885\n",
      " 0.21391834 0.22054845 0.22152346 0.22103595 0.21872029 0.21321146\n",
      " 0.21060329 0.20109689 0.19365021 0.18359537 0.20380256 0.20065814\n",
      " 0.20987203 0.20681292 0.20502133 0.20444851 0.19800122 0.19690433\n",
      " 0.19258988 0.192273   0.19624406 0.19473892 0.19356027 0.19261214\n",
      " 0.19179666 0.19104853 0.19033188 0.18962976]\n"
     ]
    },
    {
     "name": "stdout",
     "output_type": "stream",
     "text": [
      "8 day output [[0.18893504]]\n",
      "9 day input [0.17616088 0.1793053  0.17954906 0.18410725 0.18739793 0.17601463\n",
      " 0.17575868 0.17316271 0.17428397 0.17250457 0.1617794  0.16699573\n",
      " 0.16414381 0.16046313 0.15202925 0.15717246 0.15797684 0.16199878\n",
      " 0.17301645 0.1698964  0.17511274 0.18193784 0.18966484 0.19115174\n",
      " 0.19361365 0.1981231  0.20270567 0.20305911 0.20726386 0.20892139\n",
      " 0.20804388 0.21174893 0.21194394 0.21043266 0.208117   0.20777575\n",
      " 0.21050579 0.207922   0.20911639 0.20826325 0.20882389 0.21915905\n",
      " 0.21716027 0.21854966 0.21589275 0.21581962 0.22071907 0.22786106\n",
      " 0.22666667 0.22315661 0.22332724 0.22513102 0.22318099 0.22093845\n",
      " 0.21711152 0.21438147 0.21840341 0.2178184  0.20136502 0.19422303\n",
      " 0.18917733 0.18878732 0.18901889 0.19349177 0.19453991 0.19987812\n",
      " 0.1987081  0.18920171 0.1870323  0.19878123 0.20667885 0.21391834\n",
      " 0.22054845 0.22152346 0.22103595 0.21872029 0.21321146 0.21060329\n",
      " 0.20109689 0.19365021 0.18359537 0.20380256 0.20065814 0.20987203\n",
      " 0.20681292 0.20502133 0.20444851 0.19800122 0.19690433 0.19258988\n",
      " 0.192273   0.19624406 0.19473892 0.19356027 0.19261214 0.19179666\n",
      " 0.19104853 0.19033188 0.18962976 0.18893504]\n",
      "9 day output [[0.18824488]]\n",
      "10 day input [0.1793053  0.17954906 0.18410725 0.18739793 0.17601463 0.17575868\n",
      " 0.17316271 0.17428397 0.17250457 0.1617794  0.16699573 0.16414381\n",
      " 0.16046313 0.15202925 0.15717246 0.15797684 0.16199878 0.17301645\n",
      " 0.1698964  0.17511274 0.18193784 0.18966484 0.19115174 0.19361365\n",
      " 0.1981231  0.20270567 0.20305911 0.20726386 0.20892139 0.20804388\n",
      " 0.21174893 0.21194394 0.21043266 0.208117   0.20777575 0.21050579\n",
      " 0.207922   0.20911639 0.20826325 0.20882389 0.21915905 0.21716027\n",
      " 0.21854966 0.21589275 0.21581962 0.22071907 0.22786106 0.22666667\n",
      " 0.22315661 0.22332724 0.22513102 0.22318099 0.22093845 0.21711152\n",
      " 0.21438147 0.21840341 0.2178184  0.20136502 0.19422303 0.18917733\n",
      " 0.18878732 0.18901889 0.19349177 0.19453991 0.19987812 0.1987081\n",
      " 0.18920171 0.1870323  0.19878123 0.20667885 0.21391834 0.22054845\n",
      " 0.22152346 0.22103595 0.21872029 0.21321146 0.21060329 0.20109689\n",
      " 0.19365021 0.18359537 0.20380256 0.20065814 0.20987203 0.20681292\n",
      " 0.20502133 0.20444851 0.19800122 0.19690433 0.19258988 0.192273\n",
      " 0.19624406 0.19473892 0.19356027 0.19261214 0.19179666 0.19104853\n",
      " 0.19033188 0.18962976 0.18893504 0.18824488]\n",
      "10 day output [[0.18755808]]\n",
      "11 day input [0.17954906 0.18410725 0.18739793 0.17601463 0.17575868 0.17316271\n",
      " 0.17428397 0.17250457 0.1617794  0.16699573 0.16414381 0.16046313\n",
      " 0.15202925 0.15717246 0.15797684 0.16199878 0.17301645 0.1698964\n",
      " 0.17511274 0.18193784 0.18966484 0.19115174 0.19361365 0.1981231\n",
      " 0.20270567 0.20305911 0.20726386 0.20892139 0.20804388 0.21174893\n",
      " 0.21194394 0.21043266 0.208117   0.20777575 0.21050579 0.207922\n",
      " 0.20911639 0.20826325 0.20882389 0.21915905 0.21716027 0.21854966\n",
      " 0.21589275 0.21581962 0.22071907 0.22786106 0.22666667 0.22315661\n",
      " 0.22332724 0.22513102 0.22318099 0.22093845 0.21711152 0.21438147\n",
      " 0.21840341 0.2178184  0.20136502 0.19422303 0.18917733 0.18878732\n",
      " 0.18901889 0.19349177 0.19453991 0.19987812 0.1987081  0.18920171\n",
      " 0.1870323  0.19878123 0.20667885 0.21391834 0.22054845 0.22152346\n",
      " 0.22103595 0.21872029 0.21321146 0.21060329 0.20109689 0.19365021\n",
      " 0.18359537 0.20380256 0.20065814 0.20987203 0.20681292 0.20502133\n",
      " 0.20444851 0.19800122 0.19690433 0.19258988 0.192273   0.19624406\n",
      " 0.19473892 0.19356027 0.19261214 0.19179666 0.19104853 0.19033188\n",
      " 0.18962976 0.18893504 0.18824488 0.18755808]\n",
      "11 day output [[0.1868738]]\n",
      "12 day input [0.18410725 0.18739793 0.17601463 0.17575868 0.17316271 0.17428397\n",
      " 0.17250457 0.1617794  0.16699573 0.16414381 0.16046313 0.15202925\n",
      " 0.15717246 0.15797684 0.16199878 0.17301645 0.1698964  0.17511274\n",
      " 0.18193784 0.18966484 0.19115174 0.19361365 0.1981231  0.20270567\n",
      " 0.20305911 0.20726386 0.20892139 0.20804388 0.21174893 0.21194394\n",
      " 0.21043266 0.208117   0.20777575 0.21050579 0.207922   0.20911639\n",
      " 0.20826325 0.20882389 0.21915905 0.21716027 0.21854966 0.21589275\n",
      " 0.21581962 0.22071907 0.22786106 0.22666667 0.22315661 0.22332724\n",
      " 0.22513102 0.22318099 0.22093845 0.21711152 0.21438147 0.21840341\n",
      " 0.2178184  0.20136502 0.19422303 0.18917733 0.18878732 0.18901889\n",
      " 0.19349177 0.19453991 0.19987812 0.1987081  0.18920171 0.1870323\n",
      " 0.19878123 0.20667885 0.21391834 0.22054845 0.22152346 0.22103595\n",
      " 0.21872029 0.21321146 0.21060329 0.20109689 0.19365021 0.18359537\n",
      " 0.20380256 0.20065814 0.20987203 0.20681292 0.20502133 0.20444851\n",
      " 0.19800122 0.19690433 0.19258988 0.192273   0.19624406 0.19473892\n",
      " 0.19356027 0.19261214 0.19179666 0.19104853 0.19033188 0.18962976\n",
      " 0.18893504 0.18824488 0.18755808 0.18687379]\n",
      "12 day output [[0.18619129]]\n",
      "13 day input [0.18739793 0.17601463 0.17575868 0.17316271 0.17428397 0.17250457\n",
      " 0.1617794  0.16699573 0.16414381 0.16046313 0.15202925 0.15717246\n",
      " 0.15797684 0.16199878 0.17301645 0.1698964  0.17511274 0.18193784\n",
      " 0.18966484 0.19115174 0.19361365 0.1981231  0.20270567 0.20305911\n",
      " 0.20726386 0.20892139 0.20804388 0.21174893 0.21194394 0.21043266\n",
      " 0.208117   0.20777575 0.21050579 0.207922   0.20911639 0.20826325\n",
      " 0.20882389 0.21915905 0.21716027 0.21854966 0.21589275 0.21581962\n",
      " 0.22071907 0.22786106 0.22666667 0.22315661 0.22332724 0.22513102\n",
      " 0.22318099 0.22093845 0.21711152 0.21438147 0.21840341 0.2178184\n",
      " 0.20136502 0.19422303 0.18917733 0.18878732 0.18901889 0.19349177\n",
      " 0.19453991 0.19987812 0.1987081  0.18920171 0.1870323  0.19878123\n",
      " 0.20667885 0.21391834 0.22054845 0.22152346 0.22103595 0.21872029\n",
      " 0.21321146 0.21060329 0.20109689 0.19365021 0.18359537 0.20380256\n",
      " 0.20065814 0.20987203 0.20681292 0.20502133 0.20444851 0.19800122\n",
      " 0.19690433 0.19258988 0.192273   0.19624406 0.19473892 0.19356027\n",
      " 0.19261214 0.19179666 0.19104853 0.19033188 0.18962976 0.18893504\n",
      " 0.18824488 0.18755808 0.18687379 0.18619129]\n",
      "13 day output [[0.18550986]]\n",
      "14 day input [0.17601463 0.17575868 0.17316271 0.17428397 0.17250457 0.1617794\n",
      " 0.16699573 0.16414381 0.16046313 0.15202925 0.15717246 0.15797684\n",
      " 0.16199878 0.17301645 0.1698964  0.17511274 0.18193784 0.18966484\n",
      " 0.19115174 0.19361365 0.1981231  0.20270567 0.20305911 0.20726386\n",
      " 0.20892139 0.20804388 0.21174893 0.21194394 0.21043266 0.208117\n",
      " 0.20777575 0.21050579 0.207922   0.20911639 0.20826325 0.20882389\n",
      " 0.21915905 0.21716027 0.21854966 0.21589275 0.21581962 0.22071907\n",
      " 0.22786106 0.22666667 0.22315661 0.22332724 0.22513102 0.22318099\n",
      " 0.22093845 0.21711152 0.21438147 0.21840341 0.2178184  0.20136502\n",
      " 0.19422303 0.18917733 0.18878732 0.18901889 0.19349177 0.19453991\n",
      " 0.19987812 0.1987081  0.18920171 0.1870323  0.19878123 0.20667885\n",
      " 0.21391834 0.22054845 0.22152346 0.22103595 0.21872029 0.21321146\n",
      " 0.21060329 0.20109689 0.19365021 0.18359537 0.20380256 0.20065814\n",
      " 0.20987203 0.20681292 0.20502133 0.20444851 0.19800122 0.19690433\n",
      " 0.19258988 0.192273   0.19624406 0.19473892 0.19356027 0.19261214\n",
      " 0.19179666 0.19104853 0.19033188 0.18962976 0.18893504 0.18824488\n",
      " 0.18755808 0.18687379 0.18619129 0.18550986]\n",
      "14 day output [[0.18482879]]\n",
      "15 day input [0.17575868 0.17316271 0.17428397 0.17250457 0.1617794  0.16699573\n",
      " 0.16414381 0.16046313 0.15202925 0.15717246 0.15797684 0.16199878\n",
      " 0.17301645 0.1698964  0.17511274 0.18193784 0.18966484 0.19115174\n",
      " 0.19361365 0.1981231  0.20270567 0.20305911 0.20726386 0.20892139\n",
      " 0.20804388 0.21174893 0.21194394 0.21043266 0.208117   0.20777575\n",
      " 0.21050579 0.207922   0.20911639 0.20826325 0.20882389 0.21915905\n",
      " 0.21716027 0.21854966 0.21589275 0.21581962 0.22071907 0.22786106\n",
      " 0.22666667 0.22315661 0.22332724 0.22513102 0.22318099 0.22093845\n",
      " 0.21711152 0.21438147 0.21840341 0.2178184  0.20136502 0.19422303\n",
      " 0.18917733 0.18878732 0.18901889 0.19349177 0.19453991 0.19987812\n",
      " 0.1987081  0.18920171 0.1870323  0.19878123 0.20667885 0.21391834\n",
      " 0.22054845 0.22152346 0.22103595 0.21872029 0.21321146 0.21060329\n",
      " 0.20109689 0.19365021 0.18359537 0.20380256 0.20065814 0.20987203\n",
      " 0.20681292 0.20502133 0.20444851 0.19800122 0.19690433 0.19258988\n",
      " 0.192273   0.19624406 0.19473892 0.19356027 0.19261214 0.19179666\n",
      " 0.19104853 0.19033188 0.18962976 0.18893504 0.18824488 0.18755808\n",
      " 0.18687379 0.18619129 0.18550986 0.18482879]\n",
      "15 day output [[0.18414757]]\n",
      "16 day input [0.17316271 0.17428397 0.17250457 0.1617794  0.16699573 0.16414381\n",
      " 0.16046313 0.15202925 0.15717246 0.15797684 0.16199878 0.17301645\n",
      " 0.1698964  0.17511274 0.18193784 0.18966484 0.19115174 0.19361365\n",
      " 0.1981231  0.20270567 0.20305911 0.20726386 0.20892139 0.20804388\n",
      " 0.21174893 0.21194394 0.21043266 0.208117   0.20777575 0.21050579\n",
      " 0.207922   0.20911639 0.20826325 0.20882389 0.21915905 0.21716027\n",
      " 0.21854966 0.21589275 0.21581962 0.22071907 0.22786106 0.22666667\n",
      " 0.22315661 0.22332724 0.22513102 0.22318099 0.22093845 0.21711152\n",
      " 0.21438147 0.21840341 0.2178184  0.20136502 0.19422303 0.18917733\n",
      " 0.18878732 0.18901889 0.19349177 0.19453991 0.19987812 0.1987081\n",
      " 0.18920171 0.1870323  0.19878123 0.20667885 0.21391834 0.22054845\n",
      " 0.22152346 0.22103595 0.21872029 0.21321146 0.21060329 0.20109689\n",
      " 0.19365021 0.18359537 0.20380256 0.20065814 0.20987203 0.20681292\n",
      " 0.20502133 0.20444851 0.19800122 0.19690433 0.19258988 0.192273\n",
      " 0.19624406 0.19473892 0.19356027 0.19261214 0.19179666 0.19104853\n",
      " 0.19033188 0.18962976 0.18893504 0.18824488 0.18755808 0.18687379\n",
      " 0.18619129 0.18550986 0.18482879 0.18414757]\n",
      "16 day output [[0.18346575]]\n",
      "17 day input [0.17428397 0.17250457 0.1617794  0.16699573 0.16414381 0.16046313\n",
      " 0.15202925 0.15717246 0.15797684 0.16199878 0.17301645 0.1698964\n",
      " 0.17511274 0.18193784 0.18966484 0.19115174 0.19361365 0.1981231\n",
      " 0.20270567 0.20305911 0.20726386 0.20892139 0.20804388 0.21174893\n",
      " 0.21194394 0.21043266 0.208117   0.20777575 0.21050579 0.207922\n",
      " 0.20911639 0.20826325 0.20882389 0.21915905 0.21716027 0.21854966\n",
      " 0.21589275 0.21581962 0.22071907 0.22786106 0.22666667 0.22315661\n",
      " 0.22332724 0.22513102 0.22318099 0.22093845 0.21711152 0.21438147\n",
      " 0.21840341 0.2178184  0.20136502 0.19422303 0.18917733 0.18878732\n",
      " 0.18901889 0.19349177 0.19453991 0.19987812 0.1987081  0.18920171\n",
      " 0.1870323  0.19878123 0.20667885 0.21391834 0.22054845 0.22152346\n",
      " 0.22103595 0.21872029 0.21321146 0.21060329 0.20109689 0.19365021\n",
      " 0.18359537 0.20380256 0.20065814 0.20987203 0.20681292 0.20502133\n",
      " 0.20444851 0.19800122 0.19690433 0.19258988 0.192273   0.19624406\n",
      " 0.19473892 0.19356027 0.19261214 0.19179666 0.19104853 0.19033188\n",
      " 0.18962976 0.18893504 0.18824488 0.18755808 0.18687379 0.18619129\n",
      " 0.18550986 0.18482879 0.18414757 0.18346575]\n"
     ]
    },
    {
     "name": "stdout",
     "output_type": "stream",
     "text": [
      "17 day output [[0.18278295]]\n",
      "18 day input [0.17250457 0.1617794  0.16699573 0.16414381 0.16046313 0.15202925\n",
      " 0.15717246 0.15797684 0.16199878 0.17301645 0.1698964  0.17511274\n",
      " 0.18193784 0.18966484 0.19115174 0.19361365 0.1981231  0.20270567\n",
      " 0.20305911 0.20726386 0.20892139 0.20804388 0.21174893 0.21194394\n",
      " 0.21043266 0.208117   0.20777575 0.21050579 0.207922   0.20911639\n",
      " 0.20826325 0.20882389 0.21915905 0.21716027 0.21854966 0.21589275\n",
      " 0.21581962 0.22071907 0.22786106 0.22666667 0.22315661 0.22332724\n",
      " 0.22513102 0.22318099 0.22093845 0.21711152 0.21438147 0.21840341\n",
      " 0.2178184  0.20136502 0.19422303 0.18917733 0.18878732 0.18901889\n",
      " 0.19349177 0.19453991 0.19987812 0.1987081  0.18920171 0.1870323\n",
      " 0.19878123 0.20667885 0.21391834 0.22054845 0.22152346 0.22103595\n",
      " 0.21872029 0.21321146 0.21060329 0.20109689 0.19365021 0.18359537\n",
      " 0.20380256 0.20065814 0.20987203 0.20681292 0.20502133 0.20444851\n",
      " 0.19800122 0.19690433 0.19258988 0.192273   0.19624406 0.19473892\n",
      " 0.19356027 0.19261214 0.19179666 0.19104853 0.19033188 0.18962976\n",
      " 0.18893504 0.18824488 0.18755808 0.18687379 0.18619129 0.18550986\n",
      " 0.18482879 0.18414757 0.18346575 0.18278295]\n",
      "18 day output [[0.1820992]]\n",
      "19 day input [0.1617794  0.16699573 0.16414381 0.16046313 0.15202925 0.15717246\n",
      " 0.15797684 0.16199878 0.17301645 0.1698964  0.17511274 0.18193784\n",
      " 0.18966484 0.19115174 0.19361365 0.1981231  0.20270567 0.20305911\n",
      " 0.20726386 0.20892139 0.20804388 0.21174893 0.21194394 0.21043266\n",
      " 0.208117   0.20777575 0.21050579 0.207922   0.20911639 0.20826325\n",
      " 0.20882389 0.21915905 0.21716027 0.21854966 0.21589275 0.21581962\n",
      " 0.22071907 0.22786106 0.22666667 0.22315661 0.22332724 0.22513102\n",
      " 0.22318099 0.22093845 0.21711152 0.21438147 0.21840341 0.2178184\n",
      " 0.20136502 0.19422303 0.18917733 0.18878732 0.18901889 0.19349177\n",
      " 0.19453991 0.19987812 0.1987081  0.18920171 0.1870323  0.19878123\n",
      " 0.20667885 0.21391834 0.22054845 0.22152346 0.22103595 0.21872029\n",
      " 0.21321146 0.21060329 0.20109689 0.19365021 0.18359537 0.20380256\n",
      " 0.20065814 0.20987203 0.20681292 0.20502133 0.20444851 0.19800122\n",
      " 0.19690433 0.19258988 0.192273   0.19624406 0.19473892 0.19356027\n",
      " 0.19261214 0.19179666 0.19104853 0.19033188 0.18962976 0.18893504\n",
      " 0.18824488 0.18755808 0.18687379 0.18619129 0.18550986 0.18482879\n",
      " 0.18414757 0.18346575 0.18278295 0.18209919]\n",
      "19 day output [[0.18141434]]\n",
      "20 day input [0.16699573 0.16414381 0.16046313 0.15202925 0.15717246 0.15797684\n",
      " 0.16199878 0.17301645 0.1698964  0.17511274 0.18193784 0.18966484\n",
      " 0.19115174 0.19361365 0.1981231  0.20270567 0.20305911 0.20726386\n",
      " 0.20892139 0.20804388 0.21174893 0.21194394 0.21043266 0.208117\n",
      " 0.20777575 0.21050579 0.207922   0.20911639 0.20826325 0.20882389\n",
      " 0.21915905 0.21716027 0.21854966 0.21589275 0.21581962 0.22071907\n",
      " 0.22786106 0.22666667 0.22315661 0.22332724 0.22513102 0.22318099\n",
      " 0.22093845 0.21711152 0.21438147 0.21840341 0.2178184  0.20136502\n",
      " 0.19422303 0.18917733 0.18878732 0.18901889 0.19349177 0.19453991\n",
      " 0.19987812 0.1987081  0.18920171 0.1870323  0.19878123 0.20667885\n",
      " 0.21391834 0.22054845 0.22152346 0.22103595 0.21872029 0.21321146\n",
      " 0.21060329 0.20109689 0.19365021 0.18359537 0.20380256 0.20065814\n",
      " 0.20987203 0.20681292 0.20502133 0.20444851 0.19800122 0.19690433\n",
      " 0.19258988 0.192273   0.19624406 0.19473892 0.19356027 0.19261214\n",
      " 0.19179666 0.19104853 0.19033188 0.18962976 0.18893504 0.18824488\n",
      " 0.18755808 0.18687379 0.18619129 0.18550986 0.18482879 0.18414757\n",
      " 0.18346575 0.18278295 0.18209919 0.18141434]\n",
      "20 day output [[0.18072858]]\n",
      "21 day input [0.16414381 0.16046313 0.15202925 0.15717246 0.15797684 0.16199878\n",
      " 0.17301645 0.1698964  0.17511274 0.18193784 0.18966484 0.19115174\n",
      " 0.19361365 0.1981231  0.20270567 0.20305911 0.20726386 0.20892139\n",
      " 0.20804388 0.21174893 0.21194394 0.21043266 0.208117   0.20777575\n",
      " 0.21050579 0.207922   0.20911639 0.20826325 0.20882389 0.21915905\n",
      " 0.21716027 0.21854966 0.21589275 0.21581962 0.22071907 0.22786106\n",
      " 0.22666667 0.22315661 0.22332724 0.22513102 0.22318099 0.22093845\n",
      " 0.21711152 0.21438147 0.21840341 0.2178184  0.20136502 0.19422303\n",
      " 0.18917733 0.18878732 0.18901889 0.19349177 0.19453991 0.19987812\n",
      " 0.1987081  0.18920171 0.1870323  0.19878123 0.20667885 0.21391834\n",
      " 0.22054845 0.22152346 0.22103595 0.21872029 0.21321146 0.21060329\n",
      " 0.20109689 0.19365021 0.18359537 0.20380256 0.20065814 0.20987203\n",
      " 0.20681292 0.20502133 0.20444851 0.19800122 0.19690433 0.19258988\n",
      " 0.192273   0.19624406 0.19473892 0.19356027 0.19261214 0.19179666\n",
      " 0.19104853 0.19033188 0.18962976 0.18893504 0.18824488 0.18755808\n",
      " 0.18687379 0.18619129 0.18550986 0.18482879 0.18414757 0.18346575\n",
      " 0.18278295 0.18209919 0.18141434 0.18072858]\n",
      "21 day output [[0.180042]]\n",
      "22 day input [0.16046313 0.15202925 0.15717246 0.15797684 0.16199878 0.17301645\n",
      " 0.1698964  0.17511274 0.18193784 0.18966484 0.19115174 0.19361365\n",
      " 0.1981231  0.20270567 0.20305911 0.20726386 0.20892139 0.20804388\n",
      " 0.21174893 0.21194394 0.21043266 0.208117   0.20777575 0.21050579\n",
      " 0.207922   0.20911639 0.20826325 0.20882389 0.21915905 0.21716027\n",
      " 0.21854966 0.21589275 0.21581962 0.22071907 0.22786106 0.22666667\n",
      " 0.22315661 0.22332724 0.22513102 0.22318099 0.22093845 0.21711152\n",
      " 0.21438147 0.21840341 0.2178184  0.20136502 0.19422303 0.18917733\n",
      " 0.18878732 0.18901889 0.19349177 0.19453991 0.19987812 0.1987081\n",
      " 0.18920171 0.1870323  0.19878123 0.20667885 0.21391834 0.22054845\n",
      " 0.22152346 0.22103595 0.21872029 0.21321146 0.21060329 0.20109689\n",
      " 0.19365021 0.18359537 0.20380256 0.20065814 0.20987203 0.20681292\n",
      " 0.20502133 0.20444851 0.19800122 0.19690433 0.19258988 0.192273\n",
      " 0.19624406 0.19473892 0.19356027 0.19261214 0.19179666 0.19104853\n",
      " 0.19033188 0.18962976 0.18893504 0.18824488 0.18755808 0.18687379\n",
      " 0.18619129 0.18550986 0.18482879 0.18414757 0.18346575 0.18278295\n",
      " 0.18209919 0.18141434 0.18072858 0.180042  ]\n",
      "22 day output [[0.17935488]]\n",
      "23 day input [0.15202925 0.15717246 0.15797684 0.16199878 0.17301645 0.1698964\n",
      " 0.17511274 0.18193784 0.18966484 0.19115174 0.19361365 0.1981231\n",
      " 0.20270567 0.20305911 0.20726386 0.20892139 0.20804388 0.21174893\n",
      " 0.21194394 0.21043266 0.208117   0.20777575 0.21050579 0.207922\n",
      " 0.20911639 0.20826325 0.20882389 0.21915905 0.21716027 0.21854966\n",
      " 0.21589275 0.21581962 0.22071907 0.22786106 0.22666667 0.22315661\n",
      " 0.22332724 0.22513102 0.22318099 0.22093845 0.21711152 0.21438147\n",
      " 0.21840341 0.2178184  0.20136502 0.19422303 0.18917733 0.18878732\n",
      " 0.18901889 0.19349177 0.19453991 0.19987812 0.1987081  0.18920171\n",
      " 0.1870323  0.19878123 0.20667885 0.21391834 0.22054845 0.22152346\n",
      " 0.22103595 0.21872029 0.21321146 0.21060329 0.20109689 0.19365021\n",
      " 0.18359537 0.20380256 0.20065814 0.20987203 0.20681292 0.20502133\n",
      " 0.20444851 0.19800122 0.19690433 0.19258988 0.192273   0.19624406\n",
      " 0.19473892 0.19356027 0.19261214 0.19179666 0.19104853 0.19033188\n",
      " 0.18962976 0.18893504 0.18824488 0.18755808 0.18687379 0.18619129\n",
      " 0.18550986 0.18482879 0.18414757 0.18346575 0.18278295 0.18209919\n",
      " 0.18141434 0.18072858 0.180042   0.17935488]\n",
      "23 day output [[0.17866752]]\n",
      "24 day input [0.15717246 0.15797684 0.16199878 0.17301645 0.1698964  0.17511274\n",
      " 0.18193784 0.18966484 0.19115174 0.19361365 0.1981231  0.20270567\n",
      " 0.20305911 0.20726386 0.20892139 0.20804388 0.21174893 0.21194394\n",
      " 0.21043266 0.208117   0.20777575 0.21050579 0.207922   0.20911639\n",
      " 0.20826325 0.20882389 0.21915905 0.21716027 0.21854966 0.21589275\n",
      " 0.21581962 0.22071907 0.22786106 0.22666667 0.22315661 0.22332724\n",
      " 0.22513102 0.22318099 0.22093845 0.21711152 0.21438147 0.21840341\n",
      " 0.2178184  0.20136502 0.19422303 0.18917733 0.18878732 0.18901889\n",
      " 0.19349177 0.19453991 0.19987812 0.1987081  0.18920171 0.1870323\n",
      " 0.19878123 0.20667885 0.21391834 0.22054845 0.22152346 0.22103595\n",
      " 0.21872029 0.21321146 0.21060329 0.20109689 0.19365021 0.18359537\n",
      " 0.20380256 0.20065814 0.20987203 0.20681292 0.20502133 0.20444851\n",
      " 0.19800122 0.19690433 0.19258988 0.192273   0.19624406 0.19473892\n",
      " 0.19356027 0.19261214 0.19179666 0.19104853 0.19033188 0.18962976\n",
      " 0.18893504 0.18824488 0.18755808 0.18687379 0.18619129 0.18550986\n",
      " 0.18482879 0.18414757 0.18346575 0.18278295 0.18209919 0.18141434\n",
      " 0.18072858 0.180042   0.17935488 0.17866752]\n",
      "24 day output [[0.17798024]]\n",
      "25 day input [0.15797684 0.16199878 0.17301645 0.1698964  0.17511274 0.18193784\n",
      " 0.18966484 0.19115174 0.19361365 0.1981231  0.20270567 0.20305911\n",
      " 0.20726386 0.20892139 0.20804388 0.21174893 0.21194394 0.21043266\n",
      " 0.208117   0.20777575 0.21050579 0.207922   0.20911639 0.20826325\n",
      " 0.20882389 0.21915905 0.21716027 0.21854966 0.21589275 0.21581962\n",
      " 0.22071907 0.22786106 0.22666667 0.22315661 0.22332724 0.22513102\n",
      " 0.22318099 0.22093845 0.21711152 0.21438147 0.21840341 0.2178184\n",
      " 0.20136502 0.19422303 0.18917733 0.18878732 0.18901889 0.19349177\n",
      " 0.19453991 0.19987812 0.1987081  0.18920171 0.1870323  0.19878123\n",
      " 0.20667885 0.21391834 0.22054845 0.22152346 0.22103595 0.21872029\n",
      " 0.21321146 0.21060329 0.20109689 0.19365021 0.18359537 0.20380256\n",
      " 0.20065814 0.20987203 0.20681292 0.20502133 0.20444851 0.19800122\n",
      " 0.19690433 0.19258988 0.192273   0.19624406 0.19473892 0.19356027\n",
      " 0.19261214 0.19179666 0.19104853 0.19033188 0.18962976 0.18893504\n",
      " 0.18824488 0.18755808 0.18687379 0.18619129 0.18550986 0.18482879\n",
      " 0.18414757 0.18346575 0.18278295 0.18209919 0.18141434 0.18072858\n",
      " 0.180042   0.17935488 0.17866752 0.17798024]\n",
      "25 day output [[0.1772933]]\n",
      "26 day input [0.16199878 0.17301645 0.1698964  0.17511274 0.18193784 0.18966484\n",
      " 0.19115174 0.19361365 0.1981231  0.20270567 0.20305911 0.20726386\n",
      " 0.20892139 0.20804388 0.21174893 0.21194394 0.21043266 0.208117\n",
      " 0.20777575 0.21050579 0.207922   0.20911639 0.20826325 0.20882389\n",
      " 0.21915905 0.21716027 0.21854966 0.21589275 0.21581962 0.22071907\n",
      " 0.22786106 0.22666667 0.22315661 0.22332724 0.22513102 0.22318099\n",
      " 0.22093845 0.21711152 0.21438147 0.21840341 0.2178184  0.20136502\n",
      " 0.19422303 0.18917733 0.18878732 0.18901889 0.19349177 0.19453991\n",
      " 0.19987812 0.1987081  0.18920171 0.1870323  0.19878123 0.20667885\n",
      " 0.21391834 0.22054845 0.22152346 0.22103595 0.21872029 0.21321146\n",
      " 0.21060329 0.20109689 0.19365021 0.18359537 0.20380256 0.20065814\n",
      " 0.20987203 0.20681292 0.20502133 0.20444851 0.19800122 0.19690433\n",
      " 0.19258988 0.192273   0.19624406 0.19473892 0.19356027 0.19261214\n",
      " 0.19179666 0.19104853 0.19033188 0.18962976 0.18893504 0.18824488\n",
      " 0.18755808 0.18687379 0.18619129 0.18550986 0.18482879 0.18414757\n",
      " 0.18346575 0.18278295 0.18209919 0.18141434 0.18072858 0.180042\n",
      " 0.17935488 0.17866752 0.17798024 0.1772933 ]\n",
      "26 day output [[0.17660701]]\n",
      "27 day input [0.17301645 0.1698964  0.17511274 0.18193784 0.18966484 0.19115174\n",
      " 0.19361365 0.1981231  0.20270567 0.20305911 0.20726386 0.20892139\n",
      " 0.20804388 0.21174893 0.21194394 0.21043266 0.208117   0.20777575\n",
      " 0.21050579 0.207922   0.20911639 0.20826325 0.20882389 0.21915905\n",
      " 0.21716027 0.21854966 0.21589275 0.21581962 0.22071907 0.22786106\n",
      " 0.22666667 0.22315661 0.22332724 0.22513102 0.22318099 0.22093845\n",
      " 0.21711152 0.21438147 0.21840341 0.2178184  0.20136502 0.19422303\n",
      " 0.18917733 0.18878732 0.18901889 0.19349177 0.19453991 0.19987812\n",
      " 0.1987081  0.18920171 0.1870323  0.19878123 0.20667885 0.21391834\n",
      " 0.22054845 0.22152346 0.22103595 0.21872029 0.21321146 0.21060329\n",
      " 0.20109689 0.19365021 0.18359537 0.20380256 0.20065814 0.20987203\n",
      " 0.20681292 0.20502133 0.20444851 0.19800122 0.19690433 0.19258988\n",
      " 0.192273   0.19624406 0.19473892 0.19356027 0.19261214 0.19179666\n",
      " 0.19104853 0.19033188 0.18962976 0.18893504 0.18824488 0.18755808\n",
      " 0.18687379 0.18619129 0.18550986 0.18482879 0.18414757 0.18346575\n",
      " 0.18278295 0.18209919 0.18141434 0.18072858 0.180042   0.17935488\n",
      " 0.17866752 0.17798024 0.1772933  0.17660701]\n"
     ]
    },
    {
     "name": "stdout",
     "output_type": "stream",
     "text": [
      "27 day output [[0.17592171]]\n",
      "28 day input [0.1698964  0.17511274 0.18193784 0.18966484 0.19115174 0.19361365\n",
      " 0.1981231  0.20270567 0.20305911 0.20726386 0.20892139 0.20804388\n",
      " 0.21174893 0.21194394 0.21043266 0.208117   0.20777575 0.21050579\n",
      " 0.207922   0.20911639 0.20826325 0.20882389 0.21915905 0.21716027\n",
      " 0.21854966 0.21589275 0.21581962 0.22071907 0.22786106 0.22666667\n",
      " 0.22315661 0.22332724 0.22513102 0.22318099 0.22093845 0.21711152\n",
      " 0.21438147 0.21840341 0.2178184  0.20136502 0.19422303 0.18917733\n",
      " 0.18878732 0.18901889 0.19349177 0.19453991 0.19987812 0.1987081\n",
      " 0.18920171 0.1870323  0.19878123 0.20667885 0.21391834 0.22054845\n",
      " 0.22152346 0.22103595 0.21872029 0.21321146 0.21060329 0.20109689\n",
      " 0.19365021 0.18359537 0.20380256 0.20065814 0.20987203 0.20681292\n",
      " 0.20502133 0.20444851 0.19800122 0.19690433 0.19258988 0.192273\n",
      " 0.19624406 0.19473892 0.19356027 0.19261214 0.19179666 0.19104853\n",
      " 0.19033188 0.18962976 0.18893504 0.18824488 0.18755808 0.18687379\n",
      " 0.18619129 0.18550986 0.18482879 0.18414757 0.18346575 0.18278295\n",
      " 0.18209919 0.18141434 0.18072858 0.180042   0.17935488 0.17866752\n",
      " 0.17798024 0.1772933  0.17660701 0.17592171]\n",
      "28 day output [[0.17523763]]\n",
      "29 day input [0.17511274 0.18193784 0.18966484 0.19115174 0.19361365 0.1981231\n",
      " 0.20270567 0.20305911 0.20726386 0.20892139 0.20804388 0.21174893\n",
      " 0.21194394 0.21043266 0.208117   0.20777575 0.21050579 0.207922\n",
      " 0.20911639 0.20826325 0.20882389 0.21915905 0.21716027 0.21854966\n",
      " 0.21589275 0.21581962 0.22071907 0.22786106 0.22666667 0.22315661\n",
      " 0.22332724 0.22513102 0.22318099 0.22093845 0.21711152 0.21438147\n",
      " 0.21840341 0.2178184  0.20136502 0.19422303 0.18917733 0.18878732\n",
      " 0.18901889 0.19349177 0.19453991 0.19987812 0.1987081  0.18920171\n",
      " 0.1870323  0.19878123 0.20667885 0.21391834 0.22054845 0.22152346\n",
      " 0.22103595 0.21872029 0.21321146 0.21060329 0.20109689 0.19365021\n",
      " 0.18359537 0.20380256 0.20065814 0.20987203 0.20681292 0.20502133\n",
      " 0.20444851 0.19800122 0.19690433 0.19258988 0.192273   0.19624406\n",
      " 0.19473892 0.19356027 0.19261214 0.19179666 0.19104853 0.19033188\n",
      " 0.18962976 0.18893504 0.18824488 0.18755808 0.18687379 0.18619129\n",
      " 0.18550986 0.18482879 0.18414757 0.18346575 0.18278295 0.18209919\n",
      " 0.18141434 0.18072858 0.180042   0.17935488 0.17866752 0.17798024\n",
      " 0.1772933  0.17660701 0.17592171 0.17523763]\n",
      "29 day output [[0.17455491]]\n",
      "[[0.19624406099319458], [0.19473892450332642], [0.19356027245521545], [0.19261214137077332], [0.1917966604232788], [0.1910485327243805], [0.19033187627792358], [0.18962976336479187], [0.1889350414276123], [0.18824487924575806], [0.18755808472633362], [0.18687379360198975], [0.18619129061698914], [0.18550986051559448], [0.18482878804206848], [0.18414756655693054], [0.18346574902534485], [0.18278294801712036], [0.18209919333457947], [0.18141433596611023], [0.18072858452796936], [0.18004199862480164], [0.17935487627983093], [0.17866751551628113], [0.1779802441596985], [0.1772933006286621], [0.17660701274871826], [0.1759217083454132], [0.17523762583732605], [0.17455491423606873]]\n"
     ]
    }
   ],
   "source": [
    "# demonstrate prediction for next 30 days\n",
    "from numpy import array\n",
    "\n",
    "lst_output=[]\n",
    "n_steps=100\n",
    "i=0\n",
    "while(i<30):\n",
    "    \n",
    "    if(len(temp_input)>100):\n",
    "        #print(temp_input)\n",
    "        x_input=np.array(temp_input[1:])\n",
    "        print(\"{} day input {}\".format(i,x_input))\n",
    "        x_input=x_input.reshape(1,-1)\n",
    "        x_input = x_input.reshape((1, n_steps, 1))\n",
    "        #print(x_input)\n",
    "        yhat = model.predict(x_input, verbose=0)\n",
    "        print(\"{} day output {}\".format(i,yhat))\n",
    "        temp_input.extend(yhat[0].tolist())\n",
    "        temp_input=temp_input[1:]\n",
    "        #print(temp_input)\n",
    "        lst_output.extend(yhat.tolist())\n",
    "        i=i+1\n",
    "    else:\n",
    "        x_input = x_input.reshape((1, n_steps,1))\n",
    "        yhat = model.predict(x_input, verbose=0)\n",
    "        print(yhat[0])\n",
    "        temp_input.extend(yhat[0].tolist())\n",
    "        print(len(temp_input))\n",
    "        lst_output.extend(yhat.tolist())\n",
    "        i=i+1\n",
    "    \n",
    "\n",
    "print(lst_output)"
   ]
  },
  {
   "cell_type": "code",
   "execution_count": 57,
   "id": "c11fd598",
   "metadata": {},
   "outputs": [],
   "source": [
    "day_new=np.arange(1,101)\n",
    "day_pred=np.arange(101,131)"
   ]
  },
  {
   "cell_type": "code",
   "execution_count": 58,
   "id": "a54b7a00",
   "metadata": {},
   "outputs": [
    {
     "data": {
      "text/plain": [
       "[<matplotlib.lines.Line2D at 0x7f9039aed900>]"
      ]
     },
     "execution_count": 58,
     "metadata": {},
     "output_type": "execute_result"
    },
    {
     "data": {
      "image/png": "[encoded data removed]",
      "text/plain": [
       "<Figure size 640x480 with 1 Axes>"
      ]
     },
     "metadata": {},
     "output_type": "display_data"
    }
   ],
   "source": [
    "plt.plot(day_new,scaler.inverse_transform(df1[len(df1)-100:]))\n",
    "plt.plot(day_pred,scaler.inverse_transform(lst_output))"
   ]
  },
  {
   "cell_type": "code",
   "execution_count": 59,
   "id": "99081c9b",
   "metadata": {},
   "outputs": [
    {
     "data": {
      "text/plain": [
       "[<matplotlib.lines.Line2D at 0x7f90399c28f0>]"
      ]
     },
     "execution_count": 59,
     "metadata": {},
     "output_type": "execute_result"
    },
    {
     "data": {
      "image/png": "[encoded data removed]",
      "text/plain": [
       "<Figure size 640x480 with 1 Axes>"
      ]
     },
     "metadata": {},
     "output_type": "display_data"
    }
   ],
   "source": [
    "df3=df1.tolist()\n",
    "df3.extend(lst_output)\n",
    "plt.plot(df3[1200:])"
   ]
  },
  {
   "cell_type": "code",
   "execution_count": 60,
   "id": "0dd951e2",
   "metadata": {},
   "outputs": [],
   "source": [
    "df3=scaler.inverse_transform(df3).tolist()"
   ]
  },
  {
   "cell_type": "code",
   "execution_count": 61,
   "id": "0a4dd5e2",
   "metadata": {},
   "outputs": [
    {
     "data": {
      "text/plain": [
       "[<matplotlib.lines.Line2D at 0x7f9039a46a10>]"
      ]
     },
     "execution_count": 61,
     "metadata": {},
     "output_type": "execute_result"
    },
    {
     "data": {
      "image/png": "[encoded data removed]",
      "text/plain": [
       "<Figure size 640x480 with 1 Axes>"
      ]
     },
     "metadata": {},
     "output_type": "display_data"
    }
   ],
   "source": [
    "plt.plot(df3)"
   ]
  },
  {
   "cell_type": "code",
   "execution_count": null,
   "id": "00034226",
   "metadata": {},
   "outputs": [],
   "source": []
  }
 ],
 "metadata": {
  "kernelspec": {
   "display_name": "Python 3 (ipykernel)",
   "language": "python",
   "name": "python3"
  },
  "language_info": {
   "codemirror_mode": {
    "name": "ipython",
    "version": 3
   },
   "file_extension": ".py",
   "mimetype": "text/x-python",
   "name": "python",
   "nbconvert_exporter": "python",
   "pygments_lexer": "ipython3",
   "version": "3.10.9"
  }
 },
 "nbformat": 4,
 "nbformat_minor": 5
}
