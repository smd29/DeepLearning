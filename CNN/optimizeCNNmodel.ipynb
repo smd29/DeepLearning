{
  "nbformat": 4,
  "nbformat_minor": 0,
  "metadata": {
    "colab": {
      "provenance": [],
      "gpuType": "T4"
    },
    "kernelspec": {
      "name": "python3",
      "display_name": "Python 3"
    },
    "language_info": {
      "name": "python"
    },
    "accelerator": "GPU"
  },
  "cells": [
    {
      "cell_type": "code",
      "execution_count": 1,
      "metadata": {
        "colab": {
          "base_uri": "https://localhost:8080/"
        },
        "id": "udT4VldLPxBQ",
        "outputId": "1620a197-3239-44af-c1ea-708c1dd1697d"
      },
      "outputs": [
        {
          "output_type": "stream",
          "name": "stdout",
          "text": [
            "Collecting keras-tuner\n",
            "  Downloading keras_tuner-1.4.6-py3-none-any.whl (128 kB)\n",
            "\u001b[2K     \u001b[90m━━━━━━━━━━━━━━━━━━━━━━━━━━━━━━━━━━━━━━━━\u001b[0m \u001b[32m128.9/128.9 kB\u001b[0m \u001b[31m3.0 MB/s\u001b[0m eta \u001b[36m0:00:00\u001b[0m\n",
            "\u001b[?25hRequirement already satisfied: keras in /usr/local/lib/python3.10/dist-packages (from keras-tuner) (2.15.0)\n",
            "Requirement already satisfied: packaging in /usr/local/lib/python3.10/dist-packages (from keras-tuner) (23.2)\n",
            "Requirement already satisfied: requests in /usr/local/lib/python3.10/dist-packages (from keras-tuner) (2.31.0)\n",
            "Collecting kt-legacy (from keras-tuner)\n",
            "  Downloading kt_legacy-1.0.5-py3-none-any.whl (9.6 kB)\n",
            "Requirement already satisfied: charset-normalizer<4,>=2 in /usr/local/lib/python3.10/dist-packages (from requests->keras-tuner) (3.3.2)\n",
            "Requirement already satisfied: idna<4,>=2.5 in /usr/local/lib/python3.10/dist-packages (from requests->keras-tuner) (3.6)\n",
            "Requirement already satisfied: urllib3<3,>=1.21.1 in /usr/local/lib/python3.10/dist-packages (from requests->keras-tuner) (2.0.7)\n",
            "Requirement already satisfied: certifi>=2017.4.17 in /usr/local/lib/python3.10/dist-packages (from requests->keras-tuner) (2024.2.2)\n",
            "Installing collected packages: kt-legacy, keras-tuner\n",
            "Successfully installed keras-tuner-1.4.6 kt-legacy-1.0.5\n"
          ]
        }
      ],
      "source": [
        "!pip install keras-tuner"
      ]
    },
    {
      "cell_type": "code",
      "source": [
        "import tensorflow as tf\n",
        "from tensorflow import keras\n",
        "import numpy as np\n",
        "import matplotlib.pyplot as plt"
      ],
      "metadata": {
        "id": "MJecWJeyP2mA"
      },
      "execution_count": 25,
      "outputs": []
    },
    {
      "cell_type": "code",
      "source": [
        "fashion_mist = keras.datasets.fashion_mnist"
      ],
      "metadata": {
        "id": "gy0xvedxQfkt"
      },
      "execution_count": 3,
      "outputs": []
    },
    {
      "cell_type": "code",
      "source": [
        "(train_images,train_labels),(test_images,test_labels) = fashion_mist.load_data()"
      ],
      "metadata": {
        "colab": {
          "base_uri": "https://localhost:8080/"
        },
        "id": "OWJQGHYEQrPY",
        "outputId": "979a5829-1d23-490f-f54d-5476269e5802"
      },
      "execution_count": 4,
      "outputs": [
        {
          "output_type": "stream",
          "name": "stdout",
          "text": [
            "Downloading data from https://storage.googleapis.com/tensorflow/tf-keras-datasets/train-labels-idx1-ubyte.gz\n",
            "29515/29515 [==============================] - 0s 1us/step\n",
            "Downloading data from https://storage.googleapis.com/tensorflow/tf-keras-datasets/train-images-idx3-ubyte.gz\n",
            "26421880/26421880 [==============================] - 2s 0us/step\n",
            "Downloading data from https://storage.googleapis.com/tensorflow/tf-keras-datasets/t10k-labels-idx1-ubyte.gz\n",
            "5148/5148 [==============================] - 0s 0us/step\n",
            "Downloading data from https://storage.googleapis.com/tensorflow/tf-keras-datasets/t10k-images-idx3-ubyte.gz\n",
            "4422102/4422102 [==============================] - 1s 0us/step\n"
          ]
        }
      ]
    },
    {
      "cell_type": "code",
      "source": [
        "test_images[0].shape"
      ],
      "metadata": {
        "colab": {
          "base_uri": "https://localhost:8080/"
        },
        "id": "lCapUkR9Q14N",
        "outputId": "02a39f4f-3fbd-46cf-e37f-bc8af77e3c2b"
      },
      "execution_count": 5,
      "outputs": [
        {
          "output_type": "execute_result",
          "data": {
            "text/plain": [
              "(28, 28)"
            ]
          },
          "metadata": {},
          "execution_count": 5
        }
      ]
    },
    {
      "cell_type": "code",
      "source": [
        "test_images = test_images/255.0\n",
        "train_images = train_images/255.0"
      ],
      "metadata": {
        "id": "zyABh8DKS8zb"
      },
      "execution_count": 8,
      "outputs": []
    },
    {
      "cell_type": "code",
      "source": [
        "test_images = test_images.reshape(len(test_images),28,28,1)\n",
        "train_images = train_images.reshape(len(train_images),28,28,1)"
      ],
      "metadata": {
        "id": "hx9jM_n8SKY-"
      },
      "execution_count": 12,
      "outputs": []
    },
    {
      "cell_type": "code",
      "source": [
        "from kerastuner import RandomSearch\n",
        "from kerastuner.engine.hyperparameters import HyperParameters"
      ],
      "metadata": {
        "id": "SNepERJlSuTB"
      },
      "execution_count": 13,
      "outputs": []
    },
    {
      "cell_type": "code",
      "source": [
        "def build_model(hp):\n",
        "  model = keras.Sequential([\n",
        "      keras.layers.Conv2D(filters=hp.Int('conv_1_filters',min_value=32,max_value=128,step=16),\n",
        "                          kernel_size=hp.Choice('conv_1_kernels',values=[3,5]),\n",
        "                          activation='relu',\n",
        "                          input_shape=(28,28,1)),\n",
        "      keras.layers.Conv2D(filters=hp.Int('conv_2_filters',min_value=32,max_value=64,step=16),\n",
        "                          kernel_size=hp.Choice('conv_2_kernels',values=[3,5]),\n",
        "                          activation='relu'),\n",
        "      keras.layers.Flatten(),\n",
        "      keras.layers.Dense(\n",
        "        units=hp.Int('dense_1_units', min_value=32, max_value=128, step=16),\n",
        "        activation='relu'\n",
        "    ),\n",
        "    keras.layers.Dense(10, activation='softmax')\n",
        "  ])\n",
        "\n",
        "  model.compile(optimizer=keras.optimizers.Adam(hp.Choice('learning_rate', values=[1e-2, 1e-3])),loss='sparse_categorical_crossentropy',metrics=['accuracy'])\n",
        "  return model"
      ],
      "metadata": {
        "id": "tU3zyXxqThWi"
      },
      "execution_count": 18,
      "outputs": []
    },
    {
      "cell_type": "code",
      "source": [
        "tuner = RandomSearch(build_model,objective='val_accuracy',max_trials=5,directory='output',project_name='fashion_mnist')"
      ],
      "metadata": {
        "id": "1RoVYrEmfB9X"
      },
      "execution_count": 19,
      "outputs": []
    },
    {
      "cell_type": "code",
      "source": [
        "tuner.search(train_images,train_labels,epochs=10,validation_split=0.2)"
      ],
      "metadata": {
        "colab": {
          "base_uri": "https://localhost:8080/"
        },
        "id": "e62Y1QdXfTvs",
        "outputId": "d41e6376-ce74-4d71-ddd0-06f0d29bacb5"
      },
      "execution_count": 20,
      "outputs": [
        {
          "output_type": "stream",
          "name": "stdout",
          "text": [
            "Trial 5 Complete [00h 01m 15s]\n",
            "val_accuracy: 0.8673333525657654\n",
            "\n",
            "Best val_accuracy So Far: 0.8715833425521851\n",
            "Total elapsed time: 00h 07m 28s\n"
          ]
        }
      ]
    },
    {
      "cell_type": "code",
      "source": [
        "model = tuner.get_best_models(num_models=1)[0]\n",
        "model.summary()"
      ],
      "metadata": {
        "colab": {
          "base_uri": "https://localhost:8080/"
        },
        "id": "IVM7p0trfsnf",
        "outputId": "b18a287a-1479-488d-9320-4473f52bbe14"
      },
      "execution_count": 21,
      "outputs": [
        {
          "output_type": "stream",
          "name": "stdout",
          "text": [
            "Model: \"sequential\"\n",
            "_________________________________________________________________\n",
            " Layer (type)                Output Shape              Param #   \n",
            "=================================================================\n",
            " conv2d (Conv2D)             (None, 26, 26, 64)        640       \n",
            "                                                                 \n",
            " conv2d_1 (Conv2D)           (None, 22, 22, 32)        51232     \n",
            "                                                                 \n",
            " flatten (Flatten)           (None, 15488)             0         \n",
            "                                                                 \n",
            " dense (Dense)               (None, 64)                991296    \n",
            "                                                                 \n",
            " dense_1 (Dense)             (None, 10)                650       \n",
            "                                                                 \n",
            "=================================================================\n",
            "Total params: 1043818 (3.98 MB)\n",
            "Trainable params: 1043818 (3.98 MB)\n",
            "Non-trainable params: 0 (0.00 Byte)\n",
            "_________________________________________________________________\n"
          ]
        }
      ]
    },
    {
      "cell_type": "code",
      "source": [
        "model.fit(train_images, train_labels, epochs=20, validation_split=0.2, initial_epoch=10)"
      ],
      "metadata": {
        "colab": {
          "base_uri": "https://localhost:8080/"
        },
        "id": "I8ZvRiomhiUC",
        "outputId": "0a83d68a-b008-40b8-f628-c5e72b375f98"
      },
      "execution_count": 23,
      "outputs": [
        {
          "output_type": "stream",
          "name": "stdout",
          "text": [
            "Epoch 11/20\n",
            "1500/1500 [==============================] - 8s 6ms/step - loss: 0.3164 - accuracy: 0.8848 - val_loss: 0.3443 - val_accuracy: 0.8742\n",
            "Epoch 12/20\n",
            "1500/1500 [==============================] - 7s 5ms/step - loss: 0.3073 - accuracy: 0.8865 - val_loss: 0.3446 - val_accuracy: 0.8737\n",
            "Epoch 13/20\n",
            "1500/1500 [==============================] - 7s 5ms/step - loss: 0.2981 - accuracy: 0.8894 - val_loss: 0.3191 - val_accuracy: 0.8802\n",
            "Epoch 14/20\n",
            "1500/1500 [==============================] - 8s 5ms/step - loss: 0.2879 - accuracy: 0.8926 - val_loss: 0.3287 - val_accuracy: 0.8802\n",
            "Epoch 15/20\n",
            "1500/1500 [==============================] - 7s 5ms/step - loss: 0.2807 - accuracy: 0.8949 - val_loss: 0.3124 - val_accuracy: 0.8849\n",
            "Epoch 16/20\n",
            "1500/1500 [==============================] - 8s 5ms/step - loss: 0.2744 - accuracy: 0.8967 - val_loss: 0.3294 - val_accuracy: 0.8786\n",
            "Epoch 17/20\n",
            "1500/1500 [==============================] - 8s 5ms/step - loss: 0.2671 - accuracy: 0.9013 - val_loss: 0.3003 - val_accuracy: 0.8915\n",
            "Epoch 18/20\n",
            "1500/1500 [==============================] - 7s 5ms/step - loss: 0.2577 - accuracy: 0.9032 - val_loss: 0.3024 - val_accuracy: 0.8909\n",
            "Epoch 19/20\n",
            "1500/1500 [==============================] - 9s 6ms/step - loss: 0.2509 - accuracy: 0.9065 - val_loss: 0.3263 - val_accuracy: 0.8844\n",
            "Epoch 20/20\n",
            "1500/1500 [==============================] - 7s 5ms/step - loss: 0.2447 - accuracy: 0.9088 - val_loss: 0.3086 - val_accuracy: 0.8917\n"
          ]
        },
        {
          "output_type": "execute_result",
          "data": {
            "text/plain": [
              "<keras.src.callbacks.History at 0x782afc0dc0d0>"
            ]
          },
          "metadata": {},
          "execution_count": 23
        }
      ]
    },
    {
      "cell_type": "code",
      "source": [],
      "metadata": {
        "id": "sjG2zTR1jCHe"
      },
      "execution_count": null,
      "outputs": []
    }
  ]
}