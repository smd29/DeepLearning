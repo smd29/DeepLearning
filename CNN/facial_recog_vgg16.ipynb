{
  "nbformat": 4,
  "nbformat_minor": 0,
  "metadata": {
    "colab": {
      "provenance": [],
      "gpuType": "T4"
    },
    "kernelspec": {
      "name": "python3",
      "display_name": "Python 3"
    },
    "language_info": {
      "name": "python"
    },
    "accelerator": "GPU"
  },
  "cells": [
    {
      "cell_type": "code",
      "execution_count": 1,
      "metadata": {
        "id": "wdlYuyO5JTax"
      },
      "outputs": [],
      "source": [
        "from glob import glob\n",
        "from tensorflow import keras\n",
        "\n",
        "from tensorflow.keras.applications.vgg16 import VGG16\n",
        "from tensorflow.keras.layers import Dense, Flatten\n",
        "from tensorflow.keras.models import Model\n",
        "from tensorflow.keras.preprocessing.image import ImageDataGenerator"
      ]
    },
    {
      "cell_type": "code",
      "source": [
        "IMAGE_SIZE = [150,150]"
      ],
      "metadata": {
        "id": "6h6YvnLDJiHx"
      },
      "execution_count": 2,
      "outputs": []
    },
    {
      "cell_type": "code",
      "source": [
        "from google.colab import drive\n",
        "drive.mount('/content/drive')"
      ],
      "metadata": {
        "colab": {
          "base_uri": "https://localhost:8080/"
        },
        "id": "4MDYU2lHJkt3",
        "outputId": "846d1a7b-88c1-4c3d-b5da-0842d2a682b1"
      },
      "execution_count": 3,
      "outputs": [
        {
          "output_type": "stream",
          "name": "stdout",
          "text": [
            "Mounted at /content/drive\n"
          ]
        }
      ]
    },
    {
      "cell_type": "code",
      "source": [
        "train_dir = '/content/drive/MyDrive/Datasets/Training/Training'\n",
        "test_dir = '/content/drive/MyDrive/Datasets/Testing/Testing'\n",
        "\n",
        "train_angry_dir = '/content/drive/MyDrive/Datasets/Training/Training/Angry'\n",
        "train_fear_dir = '/content/drive/MyDrive/Datasets/Training/Training/Fear'\n",
        "train_happy_dir = '/content/drive/MyDrive/Datasets/Training/Training/Happy'\n",
        "train_neutral_dir = '/content/drive/MyDrive/Datasets/Training/Training/Neutral'\n",
        "train_sad_dir = '/content/drive/MyDrive/Datasets/Training/Training/Sad'\n",
        "train_surprise_dir = '/content/drive/MyDrive/Datasets/Training/Training/Suprise'\n",
        "\n",
        "test_angry_dir = '/content/drive/MyDrive/Datasets/Testing/Testing/Angry'\n",
        "test_fear_dir = '/content/drive/MyDrive/Datasets/Testing/Testing/Fear'\n",
        "test_happy_dir = '/content/drive/MyDrive/Datasets/Testing/Testing/Happy'\n",
        "test_neural_dir = '/content/drive/MyDrive/Datasets/Testing/Testing/Neutral'\n",
        "test_sad_dir = '/content/drive/MyDrive/Datasets/Testing/Testing/Sad'\n",
        "test_surprise_dir = '/content/drive/MyDrive/Datasets/Testing/Testing/Suprise'\n",
        "\n",
        "dir_list = [train_angry_dir, train_fear_dir, train_happy_dir,\n",
        "           train_neutral_dir, train_sad_dir, train_surprise_dir,\n",
        "           test_angry_dir, test_fear_dir, test_happy_dir,\n",
        "           test_neural_dir, test_sad_dir, test_surprise_dir]"
      ],
      "metadata": {
        "id": "ZZVT9TBfJmuO"
      },
      "execution_count": 4,
      "outputs": []
    },
    {
      "cell_type": "code",
      "source": [
        "vgg = VGG16(input_shape=IMAGE_SIZE+[3],weights='imagenet',include_top=False)"
      ],
      "metadata": {
        "colab": {
          "base_uri": "https://localhost:8080/"
        },
        "id": "GVDG4hzuJtb0",
        "outputId": "332f11d3-cce1-45c4-c6d4-72d02104ae28"
      },
      "execution_count": 5,
      "outputs": [
        {
          "output_type": "stream",
          "name": "stdout",
          "text": [
            "Downloading data from https://storage.googleapis.com/tensorflow/keras-applications/vgg16/vgg16_weights_tf_dim_ordering_tf_kernels_notop.h5\n",
            "58889256/58889256 [==============================] - 0s 0us/step\n"
          ]
        }
      ]
    },
    {
      "cell_type": "code",
      "source": [
        "for layer in vgg.layers:\n",
        "    # don't train already trained layers\n",
        "    layer.trainable=False"
      ],
      "metadata": {
        "id": "8RBEb41HJv3U"
      },
      "execution_count": 6,
      "outputs": []
    },
    {
      "cell_type": "code",
      "source": [
        "folders = glob('/content/drive/MyDrive/Datasets/Training/Training/*')\n",
        "print(len(folders))"
      ],
      "metadata": {
        "colab": {
          "base_uri": "https://localhost:8080/"
        },
        "id": "O4t8HeLJJx1u",
        "outputId": "45566bce-b6c3-4f8e-d67d-eb17bbf85045"
      },
      "execution_count": 7,
      "outputs": [
        {
          "output_type": "stream",
          "name": "stdout",
          "text": [
            "6\n"
          ]
        }
      ]
    },
    {
      "cell_type": "code",
      "source": [
        "x = Flatten()(vgg.output)\n",
        "prediction = Dense(len(folders),activation='softmax')(x)\n",
        "model = Model(inputs=vgg.input,outputs=prediction)\n",
        "\n",
        "model.summary()"
      ],
      "metadata": {
        "colab": {
          "base_uri": "https://localhost:8080/"
        },
        "id": "ArXR9tDEJzSH",
        "outputId": "b878476d-73c8-46ea-9660-fb7d763e6bb2"
      },
      "execution_count": 8,
      "outputs": [
        {
          "output_type": "stream",
          "name": "stdout",
          "text": [
            "Model: \"model\"\n",
            "_________________________________________________________________\n",
            " Layer (type)                Output Shape              Param #   \n",
            "=================================================================\n",
            " input_1 (InputLayer)        [(None, 150, 150, 3)]     0         \n",
            "                                                                 \n",
            " block1_conv1 (Conv2D)       (None, 150, 150, 64)      1792      \n",
            "                                                                 \n",
            " block1_conv2 (Conv2D)       (None, 150, 150, 64)      36928     \n",
            "                                                                 \n",
            " block1_pool (MaxPooling2D)  (None, 75, 75, 64)        0         \n",
            "                                                                 \n",
            " block2_conv1 (Conv2D)       (None, 75, 75, 128)       73856     \n",
            "                                                                 \n",
            " block2_conv2 (Conv2D)       (None, 75, 75, 128)       147584    \n",
            "                                                                 \n",
            " block2_pool (MaxPooling2D)  (None, 37, 37, 128)       0         \n",
            "                                                                 \n",
            " block3_conv1 (Conv2D)       (None, 37, 37, 256)       295168    \n",
            "                                                                 \n",
            " block3_conv2 (Conv2D)       (None, 37, 37, 256)       590080    \n",
            "                                                                 \n",
            " block3_conv3 (Conv2D)       (None, 37, 37, 256)       590080    \n",
            "                                                                 \n",
            " block3_pool (MaxPooling2D)  (None, 18, 18, 256)       0         \n",
            "                                                                 \n",
            " block4_conv1 (Conv2D)       (None, 18, 18, 512)       1180160   \n",
            "                                                                 \n",
            " block4_conv2 (Conv2D)       (None, 18, 18, 512)       2359808   \n",
            "                                                                 \n",
            " block4_conv3 (Conv2D)       (None, 18, 18, 512)       2359808   \n",
            "                                                                 \n",
            " block4_pool (MaxPooling2D)  (None, 9, 9, 512)         0         \n",
            "                                                                 \n",
            " block5_conv1 (Conv2D)       (None, 9, 9, 512)         2359808   \n",
            "                                                                 \n",
            " block5_conv2 (Conv2D)       (None, 9, 9, 512)         2359808   \n",
            "                                                                 \n",
            " block5_conv3 (Conv2D)       (None, 9, 9, 512)         2359808   \n",
            "                                                                 \n",
            " block5_pool (MaxPooling2D)  (None, 4, 4, 512)         0         \n",
            "                                                                 \n",
            " flatten (Flatten)           (None, 8192)              0         \n",
            "                                                                 \n",
            " dense (Dense)               (None, 6)                 49158     \n",
            "                                                                 \n",
            "=================================================================\n",
            "Total params: 14763846 (56.32 MB)\n",
            "Trainable params: 49158 (192.02 KB)\n",
            "Non-trainable params: 14714688 (56.13 MB)\n",
            "_________________________________________________________________\n"
          ]
        }
      ]
    },
    {
      "cell_type": "code",
      "source": [
        "model.compile(\n",
        "  loss='categorical_crossentropy',\n",
        "  optimizer='adam',\n",
        "  metrics=['accuracy']\n",
        ")"
      ],
      "metadata": {
        "id": "VUl0jPZ8J1DF"
      },
      "execution_count": 9,
      "outputs": []
    },
    {
      "cell_type": "code",
      "source": [
        "train_loader = ImageDataGenerator(rescale=1./255,shear_range=0.2,zoom_range=0.2,horizontal_flip=False)\n",
        "test_loader = ImageDataGenerator(rescale=1./255)"
      ],
      "metadata": {
        "id": "Lu3UW14fJ3va"
      },
      "execution_count": 10,
      "outputs": []
    },
    {
      "cell_type": "code",
      "source": [
        "training_set = train_loader.flow_from_directory(train_dir,target_size=(150,150),batch_size=64,class_mode='categorical')\n",
        "test_set = test_loader.flow_from_directory(test_dir,target_size=(150,150),batch_size=62,class_mode='categorical')"
      ],
      "metadata": {
        "colab": {
          "base_uri": "https://localhost:8080/"
        },
        "id": "lflp0rpFJ5Qp",
        "outputId": "c93e1a98-9fda-4191-8ea1-29f820ef1e37"
      },
      "execution_count": 11,
      "outputs": [
        {
          "output_type": "stream",
          "name": "stdout",
          "text": [
            "Found 28273 images belonging to 6 classes.\n",
            "Found 7067 images belonging to 6 classes.\n"
          ]
        }
      ]
    },
    {
      "cell_type": "code",
      "source": [
        "early_stopping_cb = keras.callbacks.EarlyStopping(patience=5,\n",
        "                                                 restore_best_weights=True)"
      ],
      "metadata": {
        "id": "Ll9AexGVJ6rN"
      },
      "execution_count": 12,
      "outputs": []
    },
    {
      "cell_type": "code",
      "source": [
        "history = model.fit_generator(training_set,\n",
        "                   epochs=1,\n",
        "                   verbose=1,\n",
        "                   validation_data=test_set,\n",
        "                   callbacks=early_stopping_cb)"
      ],
      "metadata": {
        "colab": {
          "base_uri": "https://localhost:8080/"
        },
        "id": "Pxge6UXrJ9W6",
        "outputId": "7b8392b8-41d7-4203-bc26-9e8a5977c4ab"
      },
      "execution_count": 13,
      "outputs": [
        {
          "metadata": {
            "tags": null
          },
          "name": "stderr",
          "output_type": "stream",
          "text": [
            "<ipython-input-13-5d6e678e0ea9>:1: UserWarning: `Model.fit_generator` is deprecated and will be removed in a future version. Please use `Model.fit`, which supports generators.\n",
            "  history = model.fit_generator(training_set,\n"
          ]
        },
        {
          "output_type": "stream",
          "name": "stdout",
          "text": [
            "442/442 [==============================] - 8504s 19s/step - loss: 1.4246 - accuracy: 0.4435 - val_loss: 1.3424 - val_accuracy: 0.4770\n"
          ]
        }
      ]
    },
    {
      "cell_type": "code",
      "source": [
        "model.save('facial_recog_vgg16.h5')"
      ],
      "metadata": {
        "colab": {
          "base_uri": "https://localhost:8080/"
        },
        "id": "g05vHKPiKJqN",
        "outputId": "a11ba7a8-bedb-4673-8b26-fd54e608c3d8"
      },
      "execution_count": 14,
      "outputs": [
        {
          "output_type": "stream",
          "name": "stderr",
          "text": [
            "/usr/local/lib/python3.10/dist-packages/keras/src/engine/training.py:3103: UserWarning: You are saving your model as an HDF5 file via `model.save()`. This file format is considered legacy. We recommend using instead the native Keras format, e.g. `model.save('my_model.keras')`.\n",
            "  saving_api.save_model(\n"
          ]
        }
      ]
    },
    {
      "cell_type": "code",
      "source": [],
      "metadata": {
        "id": "-LrU-k4nsB_8"
      },
      "execution_count": null,
      "outputs": []
    }
  ]
}