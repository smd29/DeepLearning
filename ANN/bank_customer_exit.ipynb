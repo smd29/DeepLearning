{
 "cells": [
  {
   "cell_type": "code",
   "execution_count": 49,
   "metadata": {},
   "outputs": [],
   "source": [
    "# import libraries\n",
    "import pandas as pd \n",
    "import matplotlib.pyplot as plt"
   ]
  },
  {
   "cell_type": "code",
   "execution_count": 22,
   "metadata": {},
   "outputs": [],
   "source": [
    "# read dataset\n",
    "dataset = pd.read_csv('Churn_Modelling.csv')\n",
    "X = dataset.iloc[:, 3:13]\n",
    "y = dataset.iloc[:, 13]"
   ]
  },
  {
   "cell_type": "code",
   "execution_count": 23,
   "metadata": {},
   "outputs": [],
   "source": [
    "#Create dummy variables\n",
    "geography=pd.get_dummies(X[\"Geography\"],drop_first=True)\n",
    "gender=pd.get_dummies(X['Gender'],drop_first=True)"
   ]
  },
  {
   "cell_type": "code",
   "execution_count": 24,
   "metadata": {},
   "outputs": [],
   "source": [
    "# Concatenate the dataframes\n",
    "X=pd.concat([X,geography,gender],axis=1)"
   ]
  },
  {
   "cell_type": "code",
   "execution_count": 25,
   "metadata": {},
   "outputs": [],
   "source": [
    "## Drop Unnecessary columns\n",
    "X=X.drop(['Geography','Gender'],axis=1)"
   ]
  },
  {
   "cell_type": "code",
   "execution_count": 29,
   "metadata": {},
   "outputs": [],
   "source": [
    "# Splitting the dataset into the Training set and Test set\n",
    "from sklearn.model_selection import train_test_split\n",
    "\n",
    "X_train,X_test, y_train, y_test = train_test_split(X,y,test_size=0.3,random_state=10)"
   ]
  },
  {
   "cell_type": "code",
   "execution_count": 36,
   "metadata": {},
   "outputs": [
    {
     "name": "stdout",
     "output_type": "stream",
     "text": [
      "(7000, 11) (3000, 11) (7000,) (3000,)\n"
     ]
    }
   ],
   "source": [
    "print(X_train.shape, X_test.shape, y_train.shape, y_test.shape)"
   ]
  },
  {
   "cell_type": "code",
   "execution_count": 30,
   "metadata": {},
   "outputs": [],
   "source": [
    "# Feature scaling\n",
    "from sklearn.preprocessing import StandardScaler\n",
    "sc = StandardScaler()\n",
    "\n",
    "X_train = sc.fit_transform(X_train)\n",
    "X_test = sc.fit_transform(X_test)"
   ]
  },
  {
   "cell_type": "code",
   "execution_count": 31,
   "metadata": {},
   "outputs": [
    {
     "name": "stderr",
     "output_type": "stream",
     "text": [
      "2024-02-05 21:28:41.252026: I tensorflow/core/platform/cpu_feature_guard.cc:182] This TensorFlow binary is optimized to use available CPU instructions in performance-critical operations.\n",
      "To enable the following instructions: AVX2 FMA, in other operations, rebuild TensorFlow with the appropriate compiler flags.\n"
     ]
    }
   ],
   "source": [
    "# Importing the Keras libraries and packages\n",
    "import keras\n",
    "from keras.models import Sequential\n",
    "from keras.layers import Dense\n",
    "from keras.layers import Dropout"
   ]
  },
  {
   "cell_type": "code",
   "execution_count": 39,
   "metadata": {},
   "outputs": [],
   "source": [
    "classifier = Sequential()\n",
    "classifier.add(Dense(units = 6, kernel_initializer = 'he_uniform',activation='relu',input_dim = 11))\n",
    "classifier.add(Dense(units = 6, kernel_initializer = 'he_uniform',activation='relu'))\n",
    "classifier.add(Dense(units = 1, kernel_initializer = 'glorot_uniform', activation = 'sigmoid'))"
   ]
  },
  {
   "cell_type": "code",
   "execution_count": 40,
   "metadata": {},
   "outputs": [],
   "source": [
    "# Compiling the ANN\n",
    "classifier.compile(optimizer = 'Adamax', loss = 'binary_crossentropy', metrics = ['accuracy'])"
   ]
  },
  {
   "cell_type": "code",
   "execution_count": 44,
   "metadata": {},
   "outputs": [
    {
     "name": "stdout",
     "output_type": "stream",
     "text": [
      "Epoch 1/100\n",
      "219/219 [==============================] - 1s 3ms/step - loss: 0.6487 - accuracy: 0.6287 - val_loss: 0.5827 - val_accuracy: 0.7003\n",
      "Epoch 2/100\n",
      "219/219 [==============================] - 0s 2ms/step - loss: 0.5393 - accuracy: 0.7523 - val_loss: 0.5363 - val_accuracy: 0.7757\n",
      "Epoch 3/100\n",
      "219/219 [==============================] - 0s 2ms/step - loss: 0.5071 - accuracy: 0.7969 - val_loss: 0.5170 - val_accuracy: 0.7943\n",
      "Epoch 4/100\n",
      "219/219 [==============================] - 0s 2ms/step - loss: 0.4907 - accuracy: 0.7980 - val_loss: 0.5043 - val_accuracy: 0.7930\n",
      "Epoch 5/100\n",
      "219/219 [==============================] - 0s 2ms/step - loss: 0.4793 - accuracy: 0.7976 - val_loss: 0.4946 - val_accuracy: 0.7930\n",
      "Epoch 6/100\n",
      "219/219 [==============================] - 0s 2ms/step - loss: 0.4706 - accuracy: 0.7974 - val_loss: 0.4865 - val_accuracy: 0.7930\n",
      "Epoch 7/100\n",
      "219/219 [==============================] - 0s 2ms/step - loss: 0.4629 - accuracy: 0.7983 - val_loss: 0.4793 - val_accuracy: 0.7927\n",
      "Epoch 8/100\n",
      "219/219 [==============================] - 0s 2ms/step - loss: 0.4561 - accuracy: 0.7987 - val_loss: 0.4731 - val_accuracy: 0.7933\n",
      "Epoch 9/100\n",
      "219/219 [==============================] - 0s 2ms/step - loss: 0.4502 - accuracy: 0.8007 - val_loss: 0.4672 - val_accuracy: 0.7943\n",
      "Epoch 10/100\n",
      "219/219 [==============================] - 0s 2ms/step - loss: 0.4446 - accuracy: 0.8023 - val_loss: 0.4614 - val_accuracy: 0.7960\n",
      "Epoch 11/100\n",
      "219/219 [==============================] - 1s 3ms/step - loss: 0.4394 - accuracy: 0.8070 - val_loss: 0.4561 - val_accuracy: 0.7957\n",
      "Epoch 12/100\n",
      "219/219 [==============================] - 0s 2ms/step - loss: 0.4344 - accuracy: 0.8097 - val_loss: 0.4513 - val_accuracy: 0.7993\n",
      "Epoch 13/100\n",
      "219/219 [==============================] - 0s 2ms/step - loss: 0.4299 - accuracy: 0.8141 - val_loss: 0.4472 - val_accuracy: 0.8043\n",
      "Epoch 14/100\n",
      "219/219 [==============================] - 0s 2ms/step - loss: 0.4258 - accuracy: 0.8170 - val_loss: 0.4429 - val_accuracy: 0.8117\n",
      "Epoch 15/100\n",
      "219/219 [==============================] - 0s 2ms/step - loss: 0.4221 - accuracy: 0.8201 - val_loss: 0.4392 - val_accuracy: 0.8153\n",
      "Epoch 16/100\n",
      "219/219 [==============================] - 0s 2ms/step - loss: 0.4185 - accuracy: 0.8244 - val_loss: 0.4355 - val_accuracy: 0.8183\n",
      "Epoch 17/100\n",
      "219/219 [==============================] - 0s 2ms/step - loss: 0.4153 - accuracy: 0.8267 - val_loss: 0.4321 - val_accuracy: 0.8203\n",
      "Epoch 18/100\n",
      "219/219 [==============================] - 0s 2ms/step - loss: 0.4122 - accuracy: 0.8294 - val_loss: 0.4288 - val_accuracy: 0.8227\n",
      "Epoch 19/100\n",
      "219/219 [==============================] - 0s 2ms/step - loss: 0.4091 - accuracy: 0.8317 - val_loss: 0.4252 - val_accuracy: 0.8243\n",
      "Epoch 20/100\n",
      "219/219 [==============================] - 0s 2ms/step - loss: 0.4059 - accuracy: 0.8349 - val_loss: 0.4217 - val_accuracy: 0.8257\n",
      "Epoch 21/100\n",
      "219/219 [==============================] - 0s 2ms/step - loss: 0.4025 - accuracy: 0.8381 - val_loss: 0.4184 - val_accuracy: 0.8293\n",
      "Epoch 22/100\n",
      "219/219 [==============================] - 0s 2ms/step - loss: 0.3993 - accuracy: 0.8399 - val_loss: 0.4149 - val_accuracy: 0.8330\n",
      "Epoch 23/100\n",
      "219/219 [==============================] - 0s 2ms/step - loss: 0.3959 - accuracy: 0.8410 - val_loss: 0.4115 - val_accuracy: 0.8337\n",
      "Epoch 24/100\n",
      "219/219 [==============================] - 0s 2ms/step - loss: 0.3924 - accuracy: 0.8436 - val_loss: 0.4080 - val_accuracy: 0.8357\n",
      "Epoch 25/100\n",
      "219/219 [==============================] - 0s 2ms/step - loss: 0.3888 - accuracy: 0.8443 - val_loss: 0.4047 - val_accuracy: 0.8363\n",
      "Epoch 26/100\n",
      "219/219 [==============================] - 0s 2ms/step - loss: 0.3849 - accuracy: 0.8479 - val_loss: 0.4009 - val_accuracy: 0.8393\n",
      "Epoch 27/100\n",
      "219/219 [==============================] - 0s 2ms/step - loss: 0.3809 - accuracy: 0.8501 - val_loss: 0.3972 - val_accuracy: 0.8400\n",
      "Epoch 28/100\n",
      "219/219 [==============================] - 0s 2ms/step - loss: 0.3768 - accuracy: 0.8524 - val_loss: 0.3935 - val_accuracy: 0.8443\n",
      "Epoch 29/100\n",
      "219/219 [==============================] - 0s 2ms/step - loss: 0.3726 - accuracy: 0.8540 - val_loss: 0.3898 - val_accuracy: 0.8447\n",
      "Epoch 30/100\n",
      "219/219 [==============================] - 0s 2ms/step - loss: 0.3685 - accuracy: 0.8553 - val_loss: 0.3864 - val_accuracy: 0.8480\n",
      "Epoch 31/100\n",
      "219/219 [==============================] - 0s 2ms/step - loss: 0.3647 - accuracy: 0.8559 - val_loss: 0.3835 - val_accuracy: 0.8477\n",
      "Epoch 32/100\n",
      "219/219 [==============================] - 1s 3ms/step - loss: 0.3613 - accuracy: 0.8574 - val_loss: 0.3809 - val_accuracy: 0.8490\n",
      "Epoch 33/100\n",
      "219/219 [==============================] - 0s 2ms/step - loss: 0.3581 - accuracy: 0.8583 - val_loss: 0.3784 - val_accuracy: 0.8533\n",
      "Epoch 34/100\n",
      "219/219 [==============================] - 0s 2ms/step - loss: 0.3554 - accuracy: 0.8574 - val_loss: 0.3762 - val_accuracy: 0.8530\n",
      "Epoch 35/100\n",
      "219/219 [==============================] - 0s 2ms/step - loss: 0.3529 - accuracy: 0.8586 - val_loss: 0.3743 - val_accuracy: 0.8540\n",
      "Epoch 36/100\n",
      "219/219 [==============================] - 0s 2ms/step - loss: 0.3509 - accuracy: 0.8593 - val_loss: 0.3728 - val_accuracy: 0.8547\n",
      "Epoch 37/100\n",
      "219/219 [==============================] - 0s 2ms/step - loss: 0.3491 - accuracy: 0.8599 - val_loss: 0.3717 - val_accuracy: 0.8547\n",
      "Epoch 38/100\n",
      "219/219 [==============================] - 0s 2ms/step - loss: 0.3476 - accuracy: 0.8606 - val_loss: 0.3706 - val_accuracy: 0.8547\n",
      "Epoch 39/100\n",
      "219/219 [==============================] - 0s 2ms/step - loss: 0.3463 - accuracy: 0.8599 - val_loss: 0.3698 - val_accuracy: 0.8550\n",
      "Epoch 40/100\n",
      "219/219 [==============================] - 0s 2ms/step - loss: 0.3451 - accuracy: 0.8599 - val_loss: 0.3686 - val_accuracy: 0.8533\n",
      "Epoch 41/100\n",
      "219/219 [==============================] - 0s 2ms/step - loss: 0.3441 - accuracy: 0.8600 - val_loss: 0.3677 - val_accuracy: 0.8530\n",
      "Epoch 42/100\n",
      "219/219 [==============================] - 0s 2ms/step - loss: 0.3432 - accuracy: 0.8597 - val_loss: 0.3674 - val_accuracy: 0.8537\n",
      "Epoch 43/100\n",
      "219/219 [==============================] - 0s 2ms/step - loss: 0.3425 - accuracy: 0.8606 - val_loss: 0.3666 - val_accuracy: 0.8527\n",
      "Epoch 44/100\n",
      "219/219 [==============================] - 0s 2ms/step - loss: 0.3417 - accuracy: 0.8606 - val_loss: 0.3662 - val_accuracy: 0.8543\n",
      "Epoch 45/100\n",
      "219/219 [==============================] - 0s 2ms/step - loss: 0.3414 - accuracy: 0.8604 - val_loss: 0.3655 - val_accuracy: 0.8523\n",
      "Epoch 46/100\n",
      "219/219 [==============================] - 0s 2ms/step - loss: 0.3408 - accuracy: 0.8607 - val_loss: 0.3649 - val_accuracy: 0.8523\n",
      "Epoch 47/100\n",
      "219/219 [==============================] - 0s 2ms/step - loss: 0.3403 - accuracy: 0.8611 - val_loss: 0.3646 - val_accuracy: 0.8540\n",
      "Epoch 48/100\n",
      "219/219 [==============================] - 0s 2ms/step - loss: 0.3399 - accuracy: 0.8613 - val_loss: 0.3641 - val_accuracy: 0.8533\n",
      "Epoch 49/100\n",
      "219/219 [==============================] - 0s 2ms/step - loss: 0.3395 - accuracy: 0.8611 - val_loss: 0.3637 - val_accuracy: 0.8530\n",
      "Epoch 50/100\n",
      "219/219 [==============================] - 0s 2ms/step - loss: 0.3390 - accuracy: 0.8616 - val_loss: 0.3634 - val_accuracy: 0.8540\n",
      "Epoch 51/100\n",
      "219/219 [==============================] - 0s 2ms/step - loss: 0.3386 - accuracy: 0.8619 - val_loss: 0.3628 - val_accuracy: 0.8530\n",
      "Epoch 52/100\n",
      "219/219 [==============================] - 0s 2ms/step - loss: 0.3383 - accuracy: 0.8630 - val_loss: 0.3625 - val_accuracy: 0.8537\n",
      "Epoch 53/100\n",
      "219/219 [==============================] - 0s 2ms/step - loss: 0.3380 - accuracy: 0.8634 - val_loss: 0.3622 - val_accuracy: 0.8533\n",
      "Epoch 54/100\n",
      "219/219 [==============================] - 0s 2ms/step - loss: 0.3376 - accuracy: 0.8624 - val_loss: 0.3619 - val_accuracy: 0.8527\n",
      "Epoch 55/100\n",
      "219/219 [==============================] - 0s 2ms/step - loss: 0.3374 - accuracy: 0.8619 - val_loss: 0.3616 - val_accuracy: 0.8527\n",
      "Epoch 56/100\n",
      "219/219 [==============================] - 0s 2ms/step - loss: 0.3370 - accuracy: 0.8630 - val_loss: 0.3616 - val_accuracy: 0.8533\n",
      "Epoch 57/100\n",
      "219/219 [==============================] - 0s 2ms/step - loss: 0.3369 - accuracy: 0.8626 - val_loss: 0.3614 - val_accuracy: 0.8533\n"
     ]
    },
    {
     "name": "stdout",
     "output_type": "stream",
     "text": [
      "Epoch 58/100\n",
      "219/219 [==============================] - 0s 2ms/step - loss: 0.3366 - accuracy: 0.8623 - val_loss: 0.3610 - val_accuracy: 0.8533\n",
      "Epoch 59/100\n",
      "219/219 [==============================] - 0s 2ms/step - loss: 0.3364 - accuracy: 0.8631 - val_loss: 0.3610 - val_accuracy: 0.8533\n",
      "Epoch 60/100\n",
      "219/219 [==============================] - 0s 2ms/step - loss: 0.3363 - accuracy: 0.8633 - val_loss: 0.3606 - val_accuracy: 0.8520\n",
      "Epoch 61/100\n",
      "219/219 [==============================] - 0s 2ms/step - loss: 0.3361 - accuracy: 0.8626 - val_loss: 0.3607 - val_accuracy: 0.8530\n",
      "Epoch 62/100\n",
      "219/219 [==============================] - 0s 2ms/step - loss: 0.3360 - accuracy: 0.8629 - val_loss: 0.3605 - val_accuracy: 0.8527\n",
      "Epoch 63/100\n",
      "219/219 [==============================] - 0s 2ms/step - loss: 0.3357 - accuracy: 0.8626 - val_loss: 0.3603 - val_accuracy: 0.8527\n",
      "Epoch 64/100\n",
      "219/219 [==============================] - 0s 2ms/step - loss: 0.3356 - accuracy: 0.8626 - val_loss: 0.3601 - val_accuracy: 0.8527\n",
      "Epoch 65/100\n",
      "219/219 [==============================] - 0s 2ms/step - loss: 0.3353 - accuracy: 0.8624 - val_loss: 0.3600 - val_accuracy: 0.8533\n",
      "Epoch 66/100\n",
      "219/219 [==============================] - 0s 2ms/step - loss: 0.3352 - accuracy: 0.8626 - val_loss: 0.3598 - val_accuracy: 0.8527\n",
      "Epoch 67/100\n",
      "219/219 [==============================] - 0s 2ms/step - loss: 0.3351 - accuracy: 0.8641 - val_loss: 0.3598 - val_accuracy: 0.8523\n",
      "Epoch 68/100\n",
      "219/219 [==============================] - 0s 2ms/step - loss: 0.3349 - accuracy: 0.8633 - val_loss: 0.3596 - val_accuracy: 0.8527\n",
      "Epoch 69/100\n",
      "219/219 [==============================] - 0s 2ms/step - loss: 0.3348 - accuracy: 0.8627 - val_loss: 0.3595 - val_accuracy: 0.8527\n",
      "Epoch 70/100\n",
      "219/219 [==============================] - 0s 2ms/step - loss: 0.3346 - accuracy: 0.8634 - val_loss: 0.3594 - val_accuracy: 0.8527\n",
      "Epoch 71/100\n",
      "219/219 [==============================] - 0s 2ms/step - loss: 0.3345 - accuracy: 0.8630 - val_loss: 0.3592 - val_accuracy: 0.8530\n",
      "Epoch 72/100\n",
      "219/219 [==============================] - 0s 2ms/step - loss: 0.3343 - accuracy: 0.8631 - val_loss: 0.3591 - val_accuracy: 0.8530\n",
      "Epoch 73/100\n",
      "219/219 [==============================] - 0s 2ms/step - loss: 0.3342 - accuracy: 0.8631 - val_loss: 0.3588 - val_accuracy: 0.8533\n",
      "Epoch 74/100\n",
      "219/219 [==============================] - 0s 2ms/step - loss: 0.3341 - accuracy: 0.8633 - val_loss: 0.3588 - val_accuracy: 0.8530\n",
      "Epoch 75/100\n",
      "219/219 [==============================] - 0s 2ms/step - loss: 0.3339 - accuracy: 0.8626 - val_loss: 0.3587 - val_accuracy: 0.8533\n",
      "Epoch 76/100\n",
      "219/219 [==============================] - 0s 2ms/step - loss: 0.3340 - accuracy: 0.8633 - val_loss: 0.3588 - val_accuracy: 0.8530\n",
      "Epoch 77/100\n",
      "219/219 [==============================] - 0s 2ms/step - loss: 0.3338 - accuracy: 0.8636 - val_loss: 0.3584 - val_accuracy: 0.8530\n",
      "Epoch 78/100\n",
      "219/219 [==============================] - 0s 2ms/step - loss: 0.3336 - accuracy: 0.8629 - val_loss: 0.3586 - val_accuracy: 0.8530\n",
      "Epoch 79/100\n",
      "219/219 [==============================] - 0s 2ms/step - loss: 0.3337 - accuracy: 0.8633 - val_loss: 0.3585 - val_accuracy: 0.8530\n",
      "Epoch 80/100\n",
      "219/219 [==============================] - 0s 2ms/step - loss: 0.3335 - accuracy: 0.8630 - val_loss: 0.3585 - val_accuracy: 0.8530\n",
      "Epoch 81/100\n",
      "219/219 [==============================] - 0s 2ms/step - loss: 0.3333 - accuracy: 0.8636 - val_loss: 0.3583 - val_accuracy: 0.8530\n",
      "Epoch 82/100\n",
      "219/219 [==============================] - 0s 2ms/step - loss: 0.3332 - accuracy: 0.8629 - val_loss: 0.3582 - val_accuracy: 0.8533\n",
      "Epoch 83/100\n",
      "219/219 [==============================] - 0s 2ms/step - loss: 0.3332 - accuracy: 0.8630 - val_loss: 0.3582 - val_accuracy: 0.8530\n",
      "Epoch 84/100\n",
      "219/219 [==============================] - 0s 2ms/step - loss: 0.3331 - accuracy: 0.8630 - val_loss: 0.3581 - val_accuracy: 0.8537\n",
      "Epoch 85/100\n",
      "219/219 [==============================] - 0s 2ms/step - loss: 0.3330 - accuracy: 0.8633 - val_loss: 0.3579 - val_accuracy: 0.8533\n",
      "Epoch 86/100\n",
      "219/219 [==============================] - 0s 2ms/step - loss: 0.3328 - accuracy: 0.8631 - val_loss: 0.3582 - val_accuracy: 0.8523\n",
      "Epoch 87/100\n",
      "219/219 [==============================] - 0s 2ms/step - loss: 0.3329 - accuracy: 0.8634 - val_loss: 0.3579 - val_accuracy: 0.8530\n",
      "Epoch 88/100\n",
      "219/219 [==============================] - 0s 2ms/step - loss: 0.3327 - accuracy: 0.8634 - val_loss: 0.3577 - val_accuracy: 0.8533\n",
      "Epoch 89/100\n",
      "219/219 [==============================] - 0s 2ms/step - loss: 0.3326 - accuracy: 0.8637 - val_loss: 0.3576 - val_accuracy: 0.8540\n",
      "Epoch 90/100\n",
      "219/219 [==============================] - 0s 2ms/step - loss: 0.3325 - accuracy: 0.8634 - val_loss: 0.3577 - val_accuracy: 0.8527\n",
      "Epoch 91/100\n",
      "219/219 [==============================] - 0s 2ms/step - loss: 0.3324 - accuracy: 0.8647 - val_loss: 0.3574 - val_accuracy: 0.8530\n",
      "Epoch 92/100\n",
      "219/219 [==============================] - 0s 2ms/step - loss: 0.3324 - accuracy: 0.8637 - val_loss: 0.3574 - val_accuracy: 0.8533\n",
      "Epoch 93/100\n",
      "219/219 [==============================] - 0s 2ms/step - loss: 0.3323 - accuracy: 0.8644 - val_loss: 0.3575 - val_accuracy: 0.8527\n",
      "Epoch 94/100\n",
      "219/219 [==============================] - 0s 2ms/step - loss: 0.3322 - accuracy: 0.8633 - val_loss: 0.3571 - val_accuracy: 0.8537\n",
      "Epoch 95/100\n",
      "219/219 [==============================] - 0s 2ms/step - loss: 0.3322 - accuracy: 0.8630 - val_loss: 0.3572 - val_accuracy: 0.8533\n",
      "Epoch 96/100\n",
      "219/219 [==============================] - 0s 2ms/step - loss: 0.3321 - accuracy: 0.8636 - val_loss: 0.3572 - val_accuracy: 0.8530\n",
      "Epoch 97/100\n",
      "219/219 [==============================] - 0s 2ms/step - loss: 0.3319 - accuracy: 0.8634 - val_loss: 0.3575 - val_accuracy: 0.8523\n",
      "Epoch 98/100\n",
      "219/219 [==============================] - 0s 2ms/step - loss: 0.3319 - accuracy: 0.8644 - val_loss: 0.3571 - val_accuracy: 0.8517\n",
      "Epoch 99/100\n",
      "219/219 [==============================] - 0s 2ms/step - loss: 0.3318 - accuracy: 0.8636 - val_loss: 0.3571 - val_accuracy: 0.8533\n",
      "Epoch 100/100\n",
      "219/219 [==============================] - 0s 2ms/step - loss: 0.3318 - accuracy: 0.8639 - val_loss: 0.3572 - val_accuracy: 0.8510\n"
     ]
    }
   ],
   "source": [
    "model = classifier.fit(X_train, y_train, epochs=100, batch_size=32, validation_data=(X_test, y_test))"
   ]
  },
  {
   "cell_type": "code",
   "execution_count": 45,
   "metadata": {},
   "outputs": [
    {
     "name": "stdout",
     "output_type": "stream",
     "text": [
      "dict_keys(['loss', 'accuracy', 'val_loss', 'val_accuracy'])\n"
     ]
    }
   ],
   "source": [
    "print(model.history.keys())"
   ]
  },
  {
   "cell_type": "code",
   "execution_count": 52,
   "metadata": {},
   "outputs": [
    {
     "data": {
      "image/png": "[encoded data removed]",
      "text/plain": [
       "<Figure size 640x480 with 1 Axes>"
      ]
     },
     "metadata": {},
     "output_type": "display_data"
    }
   ],
   "source": [
    "plt.plot(model.history['accuracy'])\n",
    "plt.plot(model.history['val_accuracy'])\n",
    "plt.title('model accuracy')\n",
    "plt.ylabel('accuracy')\n",
    "plt.xlabel('epoch')\n",
    "plt.legend(['train', 'test'], loc='upper left')\n",
    "plt.show()"
   ]
  },
  {
   "cell_type": "code",
   "execution_count": 53,
   "metadata": {},
   "outputs": [
    {
     "data": {
      "image/png": "[encoded data removed]",
      "text/plain": [
       "<Figure size 640x480 with 1 Axes>"
      ]
     },
     "metadata": {},
     "output_type": "display_data"
    }
   ],
   "source": [
    "plt.plot(model.history['loss'])\n",
    "plt.plot(model.history['val_loss'])\n",
    "plt.title('model loss')\n",
    "plt.ylabel('loss')\n",
    "plt.xlabel('epoch')\n",
    "plt.legend(['train', 'test'], loc='upper left')\n",
    "plt.show()"
   ]
  },
  {
   "cell_type": "code",
   "execution_count": 55,
   "metadata": {},
   "outputs": [
    {
     "name": "stdout",
     "output_type": "stream",
     "text": [
      "94/94 [==============================] - 0s 1ms/step\n"
     ]
    }
   ],
   "source": [
    "# Prediction\n",
    "y_pred = classifier.predict(X_test)\n",
    "y_pred = y_pred > 0.5"
   ]
  },
  {
   "cell_type": "code",
   "execution_count": 56,
   "metadata": {},
   "outputs": [],
   "source": [
    "# Making the Confusion Matrix\n",
    "from sklearn.metrics import confusion_matrix\n",
    "cm = confusion_matrix(y_test, y_pred)"
   ]
  },
  {
   "cell_type": "code",
   "execution_count": 57,
   "metadata": {},
   "outputs": [
    {
     "data": {
      "text/plain": [
       "array([[2281,   99],\n",
       "       [ 348,  272]])"
      ]
     },
     "execution_count": 57,
     "metadata": {},
     "output_type": "execute_result"
    }
   ],
   "source": [
    "cm"
   ]
  },
  {
   "cell_type": "code",
   "execution_count": 58,
   "metadata": {},
   "outputs": [],
   "source": [
    "from sklearn.metrics import accuracy_score\n",
    "score=accuracy_score(y_pred,y_test)"
   ]
  },
  {
   "cell_type": "code",
   "execution_count": 61,
   "metadata": {},
   "outputs": [
    {
     "name": "stdout",
     "output_type": "stream",
     "text": [
      "Model accuracy is 85.1%\n"
     ]
    }
   ],
   "source": [
    "print(f\"Model accuracy is {score * 100}%\")"
   ]
  },
  {
   "cell_type": "code",
   "execution_count": null,
   "metadata": {},
   "outputs": [],
   "source": []
  }
 ],
 "metadata": {
  "kernelspec": {
   "display_name": "Python 3 (ipykernel)",
   "language": "python",
   "name": "python3"
  },
  "language_info": {
   "codemirror_mode": {
    "name": "ipython",
    "version": 3
   },
   "file_extension": ".py",
   "mimetype": "text/x-python",
   "name": "python",
   "nbconvert_exporter": "python",
   "pygments_lexer": "ipython3",
   "version": "3.10.9"
  }
 },
 "nbformat": 4,
 "nbformat_minor": 2
}
